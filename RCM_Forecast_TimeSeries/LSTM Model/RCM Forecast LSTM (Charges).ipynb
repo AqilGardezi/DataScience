{
 "cells": [
  {
   "cell_type": "code",
   "execution_count": 1,
   "metadata": {},
   "outputs": [
    {
     "name": "stderr",
     "output_type": "stream",
     "text": [
      "2022-12-13 15:03:20.208982: W tensorflow/stream_executor/platform/default/dso_loader.cc:64] Could not load dynamic library 'libcudart.so.11.0'; dlerror: libcudart.so.11.0: cannot open shared object file: No such file or directory\n",
      "2022-12-13 15:03:20.209032: I tensorflow/stream_executor/cuda/cudart_stub.cc:29] Ignore above cudart dlerror if you do not have a GPU set up on your machine.\n"
     ]
    }
   ],
   "source": [
    "import numpy as np # linear algebra\n",
    "import pandas as pd # data processing, CSV file I/O (e.g. pd.read_csv)\n",
    "import matplotlib as mpl\n",
    "import matplotlib.pyplot as plt \n",
    "import pymssql\n",
    "# import seaborn as sns\n",
    "import sklearn\n",
    "from sklearn.preprocessing import MinMaxScaler\n",
    "from tensorflow.keras.models import Sequential\n",
    "from tensorflow.keras.layers import Dense, Dropout, LSTM\n",
    "from sklearn.metrics import mean_absolute_error\n",
    "import seaborn as sns"
   ]
  },
  {
   "cell_type": "code",
   "execution_count": 11,
   "metadata": {},
   "outputs": [],
   "source": [
    "def get_data():\n",
    "    df=pd.DataFrame()\n",
    "    try:\n",
    "        con = pymssql.connect(user='username',password = 'password'\n",
    "                 ,host='server',database='db',autocommit = True)\n",
    "    except Exception as e:\n",
    "        print('unable to make connection',e)\n",
    "    cur=con.cursor()\n",
    "\n",
    "    query = \"\"\"IF OBJECT_ID('TEMPDB..#CLAIMS') IS NOT NULL\n",
    "DROP TABLE #CLAIMS\n",
    "SELECT CONVERT(DATE,C.DOS) AS DOS,CLAIM_NO INTO #CLAIMS FROM CLAIMS AS C\n",
    "JOIN PATIENT AS P ON P.PATIENT_ACCOUNT=C.PATIENT_ACCOUNT\n",
    "JOIN PRACTICES AS PR ON PR.PRACTICE_CODE=P.PRACTICE_CODE\n",
    "AND PR.IS_ACTIVE=1 AND ISNULL(PR.IS_TEST_PRACTICE,0)=0\n",
    "AND ISNULL(PR.EXCLUDE_FROM_BILLING_REPORTS,0) = 0\n",
    "AND PR.EMR_NAME NOT IN ('CHARTS PRO','PM STANDALONE','TESTINGPRACTICE')\n",
    "AND PR.PRACTICE_CODE NOT LIKE '9090%' AND PR.PRAC_NAME NOT LIKE '%TEST%'\n",
    "WHERE ISNULL(C.DELETED,0)=0 AND CONVERT(DATE,C.DOS) BETWEEN '01-01-2020' AND '12-10-2022'----6383824\n",
    "\n",
    "\n",
    "\n",
    "---------------------------#CHARGES----------------------\n",
    "IF OBJECT_ID('TEMPDB..#CHARGES') IS NOT NULL\n",
    "DROP TABLE #CHARGES\n",
    "SELECT C.Claim_No,CC.claim_charges_id,CC.Amount INTO #CHARGES FROM Claim_Charges AS CC\n",
    "JOIN #CLAIMS AS C ON CC.Claim_No=C.Claim_No\n",
    "WHERE ISNULL(CC.DELETED,0)=0------\n",
    "\n",
    "\n",
    "\n",
    "---------------------------------------------------------\n",
    "SELECT CONVERT(DATE,C.DOS)AS DOS,COUNT(DISTINCT C.Claim_No) AS CLAIM_COUNT,SUM(CC.Amount) AS CHARGES_SUM FROM #CLAIMS AS C LEFT JOIN #CHARGES AS CC\n",
    "ON C.Claim_No=CC.Claim_No\n",
    "GROUP BY CONVERT(DATE,C.DOS)\n",
    "ORDER BY CONVERT(DATE,C.DOS) ASC;\n",
    "        \"\"\"\n",
    "    try:\n",
    "        cur.execute(query)\n",
    "        df=pd.DataFrame(cur.fetchall(),columns=[x[0] for x in cur.description])\n",
    "#         print(df)\n",
    "#         df.columns=df.columns.str.upper()\n",
    "        con.close()\n",
    "    except:\n",
    "        print('Error in reading data.....')\n",
    "        con.close()\n",
    "    return df"
   ]
  },
  {
   "cell_type": "code",
   "execution_count": 12,
   "metadata": {},
   "outputs": [],
   "source": [
    "df = get_data()"
   ]
  },
  {
   "cell_type": "code",
   "execution_count": 13,
   "metadata": {},
   "outputs": [
    {
     "data": {
      "text/plain": [
       "DOS            0\n",
       "CLAIM_COUNT    0\n",
       "CHARGES_SUM    0\n",
       "dtype: int64"
      ]
     },
     "execution_count": 13,
     "metadata": {},
     "output_type": "execute_result"
    }
   ],
   "source": [
    "df.isna().sum()"
   ]
  },
  {
   "cell_type": "code",
   "execution_count": 14,
   "metadata": {},
   "outputs": [
    {
     "data": {
      "text/html": [
       "<div>\n",
       "<style scoped>\n",
       "    .dataframe tbody tr th:only-of-type {\n",
       "        vertical-align: middle;\n",
       "    }\n",
       "\n",
       "    .dataframe tbody tr th {\n",
       "        vertical-align: top;\n",
       "    }\n",
       "\n",
       "    .dataframe thead th {\n",
       "        text-align: right;\n",
       "    }\n",
       "</style>\n",
       "<table border=\"1\" class=\"dataframe\">\n",
       "  <thead>\n",
       "    <tr style=\"text-align: right;\">\n",
       "      <th></th>\n",
       "      <th>DOS</th>\n",
       "      <th>CLAIM_COUNT</th>\n",
       "      <th>CHARGES_SUM</th>\n",
       "    </tr>\n",
       "  </thead>\n",
       "  <tbody>\n",
       "    <tr>\n",
       "      <th>0</th>\n",
       "      <td>2020-01-01</td>\n",
       "      <td>3279</td>\n",
       "      <td>962075.9100</td>\n",
       "    </tr>\n",
       "    <tr>\n",
       "      <th>1</th>\n",
       "      <td>2020-01-02</td>\n",
       "      <td>15600</td>\n",
       "      <td>4003143.5500</td>\n",
       "    </tr>\n",
       "    <tr>\n",
       "      <th>2</th>\n",
       "      <td>2020-01-03</td>\n",
       "      <td>14293</td>\n",
       "      <td>3504451.8400</td>\n",
       "    </tr>\n",
       "    <tr>\n",
       "      <th>3</th>\n",
       "      <td>2020-01-04</td>\n",
       "      <td>3593</td>\n",
       "      <td>896097.0200</td>\n",
       "    </tr>\n",
       "    <tr>\n",
       "      <th>4</th>\n",
       "      <td>2020-01-05</td>\n",
       "      <td>2046</td>\n",
       "      <td>501255.8500</td>\n",
       "    </tr>\n",
       "  </tbody>\n",
       "</table>\n",
       "</div>"
      ],
      "text/plain": [
       "          DOS  CLAIM_COUNT   CHARGES_SUM\n",
       "0  2020-01-01         3279   962075.9100\n",
       "1  2020-01-02        15600  4003143.5500\n",
       "2  2020-01-03        14293  3504451.8400\n",
       "3  2020-01-04         3593   896097.0200\n",
       "4  2020-01-05         2046   501255.8500"
      ]
     },
     "execution_count": 14,
     "metadata": {},
     "output_type": "execute_result"
    }
   ],
   "source": [
    "df.head()"
   ]
  },
  {
   "cell_type": "code",
   "execution_count": 15,
   "metadata": {},
   "outputs": [],
   "source": [
    "df[\"DOS\"] = pd.to_datetime(df[\"DOS\"])"
   ]
  },
  {
   "cell_type": "code",
   "execution_count": 16,
   "metadata": {},
   "outputs": [],
   "source": [
    "charges_data = df[[\"DOS\", \"CHARGES_SUM\"]]"
   ]
  },
  {
   "cell_type": "code",
   "execution_count": 17,
   "metadata": {},
   "outputs": [],
   "source": [
    "charges_data = charges_data.set_index('DOS')"
   ]
  },
  {
   "cell_type": "code",
   "execution_count": 18,
   "metadata": {},
   "outputs": [
    {
     "data": {
      "text/plain": [
       "1075"
      ]
     },
     "execution_count": 18,
     "metadata": {},
     "output_type": "execute_result"
    }
   ],
   "source": [
    "len(charges_data)"
   ]
  },
  {
   "cell_type": "code",
   "execution_count": 19,
   "metadata": {},
   "outputs": [],
   "source": [
    "charges_data.CHARGES_SUM = charges_data.CHARGES_SUM.apply(int)"
   ]
  },
  {
   "cell_type": "code",
   "execution_count": 20,
   "metadata": {},
   "outputs": [
    {
     "data": {
      "text/html": [
       "<div>\n",
       "<style scoped>\n",
       "    .dataframe tbody tr th:only-of-type {\n",
       "        vertical-align: middle;\n",
       "    }\n",
       "\n",
       "    .dataframe tbody tr th {\n",
       "        vertical-align: top;\n",
       "    }\n",
       "\n",
       "    .dataframe thead th {\n",
       "        text-align: right;\n",
       "    }\n",
       "</style>\n",
       "<table border=\"1\" class=\"dataframe\">\n",
       "  <thead>\n",
       "    <tr style=\"text-align: right;\">\n",
       "      <th></th>\n",
       "      <th>CHARGES_SUM</th>\n",
       "    </tr>\n",
       "    <tr>\n",
       "      <th>DOS</th>\n",
       "      <th></th>\n",
       "    </tr>\n",
       "  </thead>\n",
       "  <tbody>\n",
       "    <tr>\n",
       "      <th>2020-01-01</th>\n",
       "      <td>962075</td>\n",
       "    </tr>\n",
       "    <tr>\n",
       "      <th>2020-01-02</th>\n",
       "      <td>4003143</td>\n",
       "    </tr>\n",
       "    <tr>\n",
       "      <th>2020-01-03</th>\n",
       "      <td>3504451</td>\n",
       "    </tr>\n",
       "    <tr>\n",
       "      <th>2020-01-04</th>\n",
       "      <td>896097</td>\n",
       "    </tr>\n",
       "    <tr>\n",
       "      <th>2020-01-05</th>\n",
       "      <td>501255</td>\n",
       "    </tr>\n",
       "  </tbody>\n",
       "</table>\n",
       "</div>"
      ],
      "text/plain": [
       "            CHARGES_SUM\n",
       "DOS                    \n",
       "2020-01-01       962075\n",
       "2020-01-02      4003143\n",
       "2020-01-03      3504451\n",
       "2020-01-04       896097\n",
       "2020-01-05       501255"
      ]
     },
     "execution_count": 20,
     "metadata": {},
     "output_type": "execute_result"
    }
   ],
   "source": [
    "charges_data.head()"
   ]
  },
  {
   "cell_type": "code",
   "execution_count": 21,
   "metadata": {},
   "outputs": [
    {
     "data": {
      "image/png": "[encoded data removed]",
      "text/plain": [
       "<Figure size 1440x396 with 1 Axes>"
      ]
     },
     "metadata": {
      "needs_background": "light"
     },
     "output_type": "display_data"
    }
   ],
   "source": [
    "plt.rcParams[\"figure.figsize\"] = (20,5.5)\n",
    "\n",
    "plt.plot(charges_data)\n",
    "\n",
    "plt.show()"
   ]
  },
  {
   "cell_type": "code",
   "execution_count": 22,
   "metadata": {},
   "outputs": [],
   "source": [
    "train = charges_data.loc[:'2022-08-31']\n",
    "len(train)\n",
    "# train.head()\n",
    "test = charges_data.loc['2022-09-01':]\n",
    "# len(test)\n",
    "# test.tail()\n",
    "# train_dates = pd.to_datetime(train['Date'])\n",
    "# test_dates  = pd.to_datetime(test['Date'])"
   ]
  },
  {
   "cell_type": "code",
   "execution_count": 23,
   "metadata": {},
   "outputs": [
    {
     "data": {
      "text/plain": [
       "(974, 101)"
      ]
     },
     "execution_count": 23,
     "metadata": {},
     "output_type": "execute_result"
    }
   ],
   "source": [
    "len(train), len(test)"
   ]
  },
  {
   "cell_type": "code",
   "execution_count": 24,
   "metadata": {},
   "outputs": [
    {
     "data": {
      "text/plain": [
       "(974, 1)"
      ]
     },
     "execution_count": 24,
     "metadata": {},
     "output_type": "execute_result"
    }
   ],
   "source": [
    "train.shape"
   ]
  },
  {
   "cell_type": "code",
   "execution_count": 25,
   "metadata": {},
   "outputs": [
    {
     "data": {
      "text/html": [
       "<div>\n",
       "<style scoped>\n",
       "    .dataframe tbody tr th:only-of-type {\n",
       "        vertical-align: middle;\n",
       "    }\n",
       "\n",
       "    .dataframe tbody tr th {\n",
       "        vertical-align: top;\n",
       "    }\n",
       "\n",
       "    .dataframe thead th {\n",
       "        text-align: right;\n",
       "    }\n",
       "</style>\n",
       "<table border=\"1\" class=\"dataframe\">\n",
       "  <thead>\n",
       "    <tr style=\"text-align: right;\">\n",
       "      <th></th>\n",
       "      <th>CHARGES_SUM</th>\n",
       "    </tr>\n",
       "    <tr>\n",
       "      <th>DOS</th>\n",
       "      <th></th>\n",
       "    </tr>\n",
       "  </thead>\n",
       "  <tbody>\n",
       "    <tr>\n",
       "      <th>2020-01-01</th>\n",
       "      <td>962075</td>\n",
       "    </tr>\n",
       "    <tr>\n",
       "      <th>2020-01-02</th>\n",
       "      <td>4003143</td>\n",
       "    </tr>\n",
       "    <tr>\n",
       "      <th>2020-01-03</th>\n",
       "      <td>3504451</td>\n",
       "    </tr>\n",
       "    <tr>\n",
       "      <th>2020-01-04</th>\n",
       "      <td>896097</td>\n",
       "    </tr>\n",
       "    <tr>\n",
       "      <th>2020-01-05</th>\n",
       "      <td>501255</td>\n",
       "    </tr>\n",
       "  </tbody>\n",
       "</table>\n",
       "</div>"
      ],
      "text/plain": [
       "            CHARGES_SUM\n",
       "DOS                    \n",
       "2020-01-01       962075\n",
       "2020-01-02      4003143\n",
       "2020-01-03      3504451\n",
       "2020-01-04       896097\n",
       "2020-01-05       501255"
      ]
     },
     "execution_count": 25,
     "metadata": {},
     "output_type": "execute_result"
    }
   ],
   "source": [
    "train.head()"
   ]
  },
  {
   "cell_type": "code",
   "execution_count": 26,
   "metadata": {},
   "outputs": [],
   "source": [
    "# train_dates = pd.to_datetime(train['DOS'])\n",
    "# test_dates  = pd.to_datetime(test['DOS'])"
   ]
  },
  {
   "cell_type": "markdown",
   "metadata": {},
   "source": [
    "### Prepare Data"
   ]
  },
  {
   "cell_type": "code",
   "execution_count": 27,
   "metadata": {},
   "outputs": [],
   "source": [
    "scaler = MinMaxScaler(feature_range=(0,1))\n",
    "scaled_data = scaler.fit_transform(train['CHARGES_SUM'].values.reshape(-1,1))\n",
    "prediction_days = 145\n",
    "\n",
    "x_train = []\n",
    "y_train = []\n",
    "\n",
    "for x in range(prediction_days, len(scaled_data)):\n",
    "    \n",
    "    x_train.append(scaled_data[x-prediction_days:x, 0])\n",
    "    y_train.append(scaled_data[x, 0])\n",
    "\n",
    "\n",
    "x_train, y_train = np.array(x_train), np.array(y_train)\n",
    "x_train = np.reshape(x_train, (x_train.shape[0], x_train.shape[1], 1))"
   ]
  },
  {
   "cell_type": "code",
   "execution_count": 28,
   "metadata": {},
   "outputs": [],
   "source": [
    "# x_train"
   ]
  },
  {
   "cell_type": "markdown",
   "metadata": {},
   "source": [
    "### Build The Model "
   ]
  },
  {
   "cell_type": "code",
   "execution_count": 29,
   "metadata": {},
   "outputs": [
    {
     "name": "stderr",
     "output_type": "stream",
     "text": [
      "2022-12-13 15:07:02.704083: W tensorflow/stream_executor/platform/default/dso_loader.cc:64] Could not load dynamic library 'libcudart.so.11.0'; dlerror: libcudart.so.11.0: cannot open shared object file: No such file or directory\n",
      "2022-12-13 15:07:02.704262: W tensorflow/stream_executor/platform/default/dso_loader.cc:64] Could not load dynamic library 'libcublas.so.11'; dlerror: libcublas.so.11: cannot open shared object file: No such file or directory\n",
      "2022-12-13 15:07:02.704437: W tensorflow/stream_executor/platform/default/dso_loader.cc:64] Could not load dynamic library 'libcublasLt.so.11'; dlerror: libcublasLt.so.11: cannot open shared object file: No such file or directory\n",
      "2022-12-13 15:07:02.704594: W tensorflow/stream_executor/platform/default/dso_loader.cc:64] Could not load dynamic library 'libcufft.so.10'; dlerror: libcufft.so.10: cannot open shared object file: No such file or directory\n",
      "2022-12-13 15:07:02.704723: W tensorflow/stream_executor/platform/default/dso_loader.cc:64] Could not load dynamic library 'libcurand.so.10'; dlerror: libcurand.so.10: cannot open shared object file: No such file or directory\n",
      "2022-12-13 15:07:02.704882: W tensorflow/stream_executor/platform/default/dso_loader.cc:64] Could not load dynamic library 'libcusolver.so.11'; dlerror: libcusolver.so.11: cannot open shared object file: No such file or directory\n",
      "2022-12-13 15:07:02.705024: W tensorflow/stream_executor/platform/default/dso_loader.cc:64] Could not load dynamic library 'libcusparse.so.11'; dlerror: libcusparse.so.11: cannot open shared object file: No such file or directory\n",
      "2022-12-13 15:07:02.705149: W tensorflow/stream_executor/platform/default/dso_loader.cc:64] Could not load dynamic library 'libcudnn.so.8'; dlerror: libcudnn.so.8: cannot open shared object file: No such file or directory\n",
      "2022-12-13 15:07:02.705171: W tensorflow/core/common_runtime/gpu/gpu_device.cc:1850] Cannot dlopen some GPU libraries. Please make sure the missing libraries mentioned above are installed properly if you would like to use GPU. Follow the guide at https://www.tensorflow.org/install/gpu for how to download and setup the required libraries for your platform.\n",
      "Skipping registering GPU devices...\n"
     ]
    }
   ],
   "source": [
    "model = Sequential()\n",
    "\n",
    "model.add(LSTM(units =128, activation='relu', return_sequences=True, input_shape = (x_train.shape[1],1)))\n",
    "model.add(Dropout(0.2))\n",
    "model.add(LSTM(units =128, activation='relu', return_sequences=True))\n",
    "model.add(Dropout(0.2))\n",
    "model.add(LSTM(units =128, activation='relu', return_sequences=False))\n",
    "model.add(Dropout(0.2))\n",
    "model.add(Dense(units=1)) # Prediction of the next value"
   ]
  },
  {
   "cell_type": "code",
   "execution_count": 30,
   "metadata": {
    "scrolled": true
   },
   "outputs": [
    {
     "name": "stdout",
     "output_type": "stream",
     "text": [
      "Model: \"sequential\"\n",
      "_________________________________________________________________\n",
      " Layer (type)                Output Shape              Param #   \n",
      "=================================================================\n",
      " lstm (LSTM)                 (None, 145, 128)          66560     \n",
      "                                                                 \n",
      " dropout (Dropout)           (None, 145, 128)          0         \n",
      "                                                                 \n",
      " lstm_1 (LSTM)               (None, 145, 128)          131584    \n",
      "                                                                 \n",
      " dropout_1 (Dropout)         (None, 145, 128)          0         \n",
      "                                                                 \n",
      " lstm_2 (LSTM)               (None, 128)               131584    \n",
      "                                                                 \n",
      " dropout_2 (Dropout)         (None, 128)               0         \n",
      "                                                                 \n",
      " dense (Dense)               (None, 1)                 129       \n",
      "                                                                 \n",
      "=================================================================\n",
      "Total params: 329,857\n",
      "Trainable params: 329,857\n",
      "Non-trainable params: 0\n",
      "_________________________________________________________________\n",
      "Epoch 1/220\n",
      "24/24 [==============================] - 23s 687ms/step - loss: 0.2003 - val_loss: 0.1492\n",
      "Epoch 2/220\n",
      "24/24 [==============================] - 15s 635ms/step - loss: 0.1248 - val_loss: 0.1332\n",
      "Epoch 3/220\n",
      "24/24 [==============================] - 15s 645ms/step - loss: 0.1234 - val_loss: 0.1346\n",
      "Epoch 4/220\n",
      "24/24 [==============================] - 16s 657ms/step - loss: 0.1264 - val_loss: 0.1333\n",
      "Epoch 5/220\n",
      "24/24 [==============================] - 15s 643ms/step - loss: 0.1244 - val_loss: 0.1382\n",
      "Epoch 6/220\n",
      "24/24 [==============================] - 16s 654ms/step - loss: 0.1330 - val_loss: 0.1451\n",
      "Epoch 7/220\n",
      "24/24 [==============================] - 16s 665ms/step - loss: 0.1231 - val_loss: 0.1338\n",
      "Epoch 8/220\n",
      "24/24 [==============================] - 16s 683ms/step - loss: 0.1260 - val_loss: 0.1332\n",
      "Epoch 9/220\n",
      "24/24 [==============================] - 16s 648ms/step - loss: 0.1228 - val_loss: 0.1324\n",
      "Epoch 10/220\n",
      "24/24 [==============================] - 16s 665ms/step - loss: 0.1256 - val_loss: 0.1359\n",
      "Epoch 11/220\n",
      "24/24 [==============================] - 15s 642ms/step - loss: 0.1208 - val_loss: 0.1331\n",
      "Epoch 12/220\n",
      "24/24 [==============================] - 15s 648ms/step - loss: 0.1258 - val_loss: 0.1331\n",
      "Epoch 13/220\n",
      "24/24 [==============================] - 15s 633ms/step - loss: 0.1213 - val_loss: 0.1310\n",
      "Epoch 14/220\n",
      "24/24 [==============================] - 15s 646ms/step - loss: 0.1276 - val_loss: 0.1308\n",
      "Epoch 15/220\n",
      "24/24 [==============================] - 15s 621ms/step - loss: 0.1208 - val_loss: 0.1294\n",
      "Epoch 16/220\n",
      "24/24 [==============================] - 15s 624ms/step - loss: 0.1204 - val_loss: 0.1278\n",
      "Epoch 17/220\n",
      "24/24 [==============================] - 14s 585ms/step - loss: 0.1166 - val_loss: 0.1286\n",
      "Epoch 18/220\n",
      "24/24 [==============================] - 16s 664ms/step - loss: 0.1154 - val_loss: 0.1171\n",
      "Epoch 19/220\n",
      "24/24 [==============================] - 15s 646ms/step - loss: 0.1076 - val_loss: 0.0970\n",
      "Epoch 20/220\n",
      "24/24 [==============================] - 16s 652ms/step - loss: 0.0873 - val_loss: 0.0635\n",
      "Epoch 21/220\n",
      "24/24 [==============================] - 16s 658ms/step - loss: 0.0690 - val_loss: 0.0530\n",
      "Epoch 22/220\n",
      "24/24 [==============================] - 15s 628ms/step - loss: 0.0642 - val_loss: 0.0486\n",
      "Epoch 23/220\n",
      "24/24 [==============================] - 16s 655ms/step - loss: 0.0569 - val_loss: 0.0458\n",
      "Epoch 24/220\n",
      "24/24 [==============================] - 15s 628ms/step - loss: 0.0490 - val_loss: 0.0351\n",
      "Epoch 25/220\n",
      "24/24 [==============================] - 15s 617ms/step - loss: 0.0464 - val_loss: 0.0318\n",
      "Epoch 26/220\n",
      "24/24 [==============================] - 15s 614ms/step - loss: 0.0470 - val_loss: 0.0304\n",
      "Epoch 27/220\n",
      "24/24 [==============================] - 15s 641ms/step - loss: 0.0410 - val_loss: 0.0287\n",
      "Epoch 28/220\n",
      "24/24 [==============================] - 15s 612ms/step - loss: 0.0313 - val_loss: 0.0176\n",
      "Epoch 29/220\n",
      "24/24 [==============================] - 15s 615ms/step - loss: 0.0283 - val_loss: 0.0151\n",
      "Epoch 30/220\n",
      "24/24 [==============================] - 15s 629ms/step - loss: 0.0265 - val_loss: 0.0121\n",
      "Epoch 31/220\n",
      "24/24 [==============================] - 16s 654ms/step - loss: 0.0261 - val_loss: 0.0099\n",
      "Epoch 32/220\n",
      "24/24 [==============================] - 15s 620ms/step - loss: 0.0211 - val_loss: 0.0102\n",
      "Epoch 33/220\n",
      "24/24 [==============================] - 15s 616ms/step - loss: 0.0184 - val_loss: 0.0096\n",
      "Epoch 34/220\n",
      "24/24 [==============================] - 15s 632ms/step - loss: 0.0195 - val_loss: 0.0114\n",
      "Epoch 35/220\n",
      "24/24 [==============================] - 15s 629ms/step - loss: 0.0171 - val_loss: 0.0113\n",
      "Epoch 36/220\n",
      "24/24 [==============================] - 15s 626ms/step - loss: 0.0172 - val_loss: 0.0094\n",
      "Epoch 37/220\n",
      "24/24 [==============================] - 15s 630ms/step - loss: 0.0170 - val_loss: 0.0092\n",
      "Epoch 38/220\n",
      "24/24 [==============================] - 15s 635ms/step - loss: 0.0171 - val_loss: 0.0090\n",
      "Epoch 39/220\n",
      "24/24 [==============================] - 15s 635ms/step - loss: 0.0185 - val_loss: 0.0112\n",
      "Epoch 40/220\n",
      "24/24 [==============================] - 15s 622ms/step - loss: 0.0148 - val_loss: 0.0117\n",
      "Epoch 41/220\n",
      "24/24 [==============================] - 15s 610ms/step - loss: 0.0163 - val_loss: 0.0150\n",
      "Epoch 42/220\n",
      "24/24 [==============================] - 15s 627ms/step - loss: 0.0159 - val_loss: 0.0082\n",
      "Epoch 43/220\n",
      "24/24 [==============================] - 15s 645ms/step - loss: 0.0154 - val_loss: 0.0084\n",
      "Epoch 44/220\n",
      "24/24 [==============================] - 15s 634ms/step - loss: 0.0178 - val_loss: 0.0104\n",
      "Epoch 45/220\n",
      "24/24 [==============================] - 15s 636ms/step - loss: 0.0164 - val_loss: 0.0115\n",
      "Epoch 46/220\n",
      "24/24 [==============================] - 14s 594ms/step - loss: 0.0147 - val_loss: 0.0090\n",
      "Epoch 47/220\n",
      "24/24 [==============================] - 16s 654ms/step - loss: 0.0148 - val_loss: 0.0109\n",
      "Epoch 48/220\n",
      "24/24 [==============================] - 15s 622ms/step - loss: 0.0149 - val_loss: 0.0094\n",
      "Epoch 49/220\n",
      "24/24 [==============================] - 15s 621ms/step - loss: 0.0157 - val_loss: 0.0093\n",
      "Epoch 50/220\n",
      "24/24 [==============================] - 14s 578ms/step - loss: 0.0149 - val_loss: 0.0085\n",
      "Epoch 51/220\n",
      "24/24 [==============================] - 14s 588ms/step - loss: 0.0136 - val_loss: 0.0083\n",
      "Epoch 52/220\n",
      "24/24 [==============================] - 14s 581ms/step - loss: 0.0132 - val_loss: 0.0090\n",
      "Epoch 53/220\n",
      "24/24 [==============================] - 14s 565ms/step - loss: 0.0136 - val_loss: 0.0081\n",
      "Epoch 54/220\n",
      "24/24 [==============================] - 14s 568ms/step - loss: 0.0134 - val_loss: 0.0108\n",
      "Epoch 55/220\n",
      "24/24 [==============================] - 14s 602ms/step - loss: 0.0144 - val_loss: 0.0088\n",
      "Epoch 56/220\n",
      "24/24 [==============================] - 14s 591ms/step - loss: 0.0133 - val_loss: 0.0079\n",
      "Epoch 57/220\n",
      "24/24 [==============================] - 14s 601ms/step - loss: 0.0138 - val_loss: 0.0106\n",
      "Epoch 58/220\n",
      "24/24 [==============================] - 14s 584ms/step - loss: 0.0142 - val_loss: 0.0085\n",
      "Epoch 59/220\n",
      "24/24 [==============================] - 14s 583ms/step - loss: 0.0140 - val_loss: 0.0086\n",
      "Epoch 60/220\n",
      "24/24 [==============================] - 14s 591ms/step - loss: 0.0138 - val_loss: 0.0081\n",
      "Epoch 61/220\n",
      "24/24 [==============================] - 14s 577ms/step - loss: 0.0130 - val_loss: 0.0091\n",
      "Epoch 62/220\n",
      "24/24 [==============================] - 14s 563ms/step - loss: 0.0132 - val_loss: 0.0078\n",
      "Epoch 63/220\n",
      "24/24 [==============================] - 14s 574ms/step - loss: 0.0133 - val_loss: 0.0087\n",
      "Epoch 64/220\n",
      "24/24 [==============================] - 14s 575ms/step - loss: 0.0133 - val_loss: 0.0085\n",
      "Epoch 65/220\n",
      "24/24 [==============================] - 13s 563ms/step - loss: 0.0130 - val_loss: 0.0082\n",
      "Epoch 66/220\n",
      "24/24 [==============================] - 14s 578ms/step - loss: 0.0134 - val_loss: 0.0095\n",
      "Epoch 67/220\n",
      "24/24 [==============================] - 14s 582ms/step - loss: 0.0129 - val_loss: 0.0097\n",
      "Epoch 68/220\n",
      "24/24 [==============================] - 14s 590ms/step - loss: 0.0139 - val_loss: 0.0079\n",
      "Epoch 69/220\n",
      "24/24 [==============================] - 14s 601ms/step - loss: 0.0147 - val_loss: 0.0080\n",
      "Epoch 70/220\n",
      "24/24 [==============================] - 14s 574ms/step - loss: 0.0146 - val_loss: 0.0113\n",
      "Epoch 71/220\n",
      "24/24 [==============================] - 14s 593ms/step - loss: 0.0129 - val_loss: 0.0077\n",
      "Epoch 72/220\n",
      "24/24 [==============================] - 15s 628ms/step - loss: 0.0129 - val_loss: 0.0082\n",
      "Epoch 73/220\n",
      "24/24 [==============================] - 14s 568ms/step - loss: 0.0133 - val_loss: 0.0079\n",
      "Epoch 74/220\n",
      "24/24 [==============================] - 14s 582ms/step - loss: 0.0115 - val_loss: 0.0085\n",
      "Epoch 75/220\n",
      "24/24 [==============================] - 14s 578ms/step - loss: 0.0130 - val_loss: 0.0082\n",
      "Epoch 76/220\n",
      "24/24 [==============================] - 14s 587ms/step - loss: 0.0125 - val_loss: 0.0093\n",
      "Epoch 77/220\n",
      "24/24 [==============================] - 14s 590ms/step - loss: 0.0127 - val_loss: 0.0082\n",
      "Epoch 78/220\n",
      "24/24 [==============================] - 14s 576ms/step - loss: 0.0142 - val_loss: 0.0091\n",
      "Epoch 79/220\n",
      "24/24 [==============================] - 14s 566ms/step - loss: 0.0136 - val_loss: 0.0089\n",
      "Epoch 80/220\n",
      "24/24 [==============================] - 14s 576ms/step - loss: 0.0122 - val_loss: 0.0105\n",
      "Epoch 81/220\n",
      "24/24 [==============================] - 14s 567ms/step - loss: 0.0124 - val_loss: 0.0087\n",
      "Epoch 82/220\n",
      "24/24 [==============================] - 14s 565ms/step - loss: 0.0121 - val_loss: 0.0079\n",
      "Epoch 83/220\n",
      "24/24 [==============================] - 14s 596ms/step - loss: 0.0117 - val_loss: 0.0081\n",
      "Epoch 84/220\n",
      "24/24 [==============================] - 14s 576ms/step - loss: 0.0128 - val_loss: 0.0079\n",
      "Epoch 85/220\n",
      "24/24 [==============================] - 14s 583ms/step - loss: 0.0117 - val_loss: 0.0081\n",
      "Epoch 86/220\n",
      "24/24 [==============================] - 14s 567ms/step - loss: 0.0116 - val_loss: 0.0089\n",
      "Epoch 87/220\n",
      "24/24 [==============================] - 14s 584ms/step - loss: 0.0125 - val_loss: 0.0121\n",
      "Epoch 88/220\n",
      "24/24 [==============================] - 14s 588ms/step - loss: 0.0126 - val_loss: 0.0081\n",
      "Epoch 89/220\n",
      "24/24 [==============================] - 14s 593ms/step - loss: 0.0113 - val_loss: 0.0091\n",
      "Epoch 90/220\n",
      "24/24 [==============================] - 14s 603ms/step - loss: 0.0121 - val_loss: 0.0081\n",
      "Epoch 91/220\n",
      "24/24 [==============================] - 14s 572ms/step - loss: 0.0118 - val_loss: 0.0086\n",
      "Epoch 92/220\n",
      "24/24 [==============================] - 15s 637ms/step - loss: 0.0123 - val_loss: 0.0078\n",
      "Epoch 93/220\n",
      "24/24 [==============================] - 14s 588ms/step - loss: 0.0121 - val_loss: 0.0084\n",
      "Epoch 94/220\n",
      "24/24 [==============================] - 14s 590ms/step - loss: 0.0121 - val_loss: 0.0078\n",
      "Epoch 95/220\n",
      "24/24 [==============================] - 14s 579ms/step - loss: 0.0106 - val_loss: 0.0076\n",
      "Epoch 96/220\n",
      "24/24 [==============================] - 14s 579ms/step - loss: 0.0116 - val_loss: 0.0087\n",
      "Epoch 97/220\n",
      "24/24 [==============================] - 14s 592ms/step - loss: 0.0122 - val_loss: 0.0078\n",
      "Epoch 98/220\n",
      "24/24 [==============================] - 14s 596ms/step - loss: 0.0117 - val_loss: 0.0077\n",
      "Epoch 99/220\n",
      "24/24 [==============================] - 15s 632ms/step - loss: 0.0121 - val_loss: 0.0088\n",
      "Epoch 100/220\n",
      "24/24 [==============================] - 14s 575ms/step - loss: 0.0133 - val_loss: 0.0082\n",
      "Epoch 101/220\n",
      "24/24 [==============================] - 15s 628ms/step - loss: 0.0134 - val_loss: 0.0090\n",
      "Epoch 102/220\n",
      "24/24 [==============================] - 15s 607ms/step - loss: 0.0121 - val_loss: 0.0083\n",
      "Epoch 103/220\n",
      "24/24 [==============================] - 14s 587ms/step - loss: 0.0114 - val_loss: 0.0081\n",
      "Epoch 104/220\n",
      "24/24 [==============================] - 15s 618ms/step - loss: 0.0117 - val_loss: 0.0087\n",
      "Epoch 105/220\n",
      "24/24 [==============================] - 14s 603ms/step - loss: 0.0112 - val_loss: 0.0077\n",
      "Epoch 106/220\n",
      "24/24 [==============================] - 14s 586ms/step - loss: 0.0117 - val_loss: 0.0094\n",
      "Epoch 107/220\n",
      "24/24 [==============================] - 14s 579ms/step - loss: 0.0114 - val_loss: 0.0080\n",
      "Epoch 108/220\n",
      "24/24 [==============================] - 14s 578ms/step - loss: 0.0108 - val_loss: 0.0082\n",
      "Epoch 109/220\n",
      "24/24 [==============================] - 14s 594ms/step - loss: 0.0117 - val_loss: 0.0102\n",
      "Epoch 110/220\n",
      "24/24 [==============================] - 14s 579ms/step - loss: 0.0122 - val_loss: 0.0086\n",
      "Epoch 111/220\n",
      "24/24 [==============================] - 14s 579ms/step - loss: 0.0107 - val_loss: 0.0077\n",
      "Epoch 112/220\n",
      "24/24 [==============================] - 14s 589ms/step - loss: 0.0108 - val_loss: 0.0080\n",
      "Epoch 113/220\n",
      "24/24 [==============================] - 15s 612ms/step - loss: 0.0112 - val_loss: 0.0077\n",
      "Epoch 114/220\n",
      "24/24 [==============================] - 15s 621ms/step - loss: 0.0116 - val_loss: 0.0078\n",
      "Epoch 115/220\n",
      "24/24 [==============================] - 15s 617ms/step - loss: 0.0117 - val_loss: 0.0076\n",
      "Epoch 116/220\n",
      "24/24 [==============================] - 15s 608ms/step - loss: 0.0117 - val_loss: 0.0080\n",
      "Epoch 117/220\n",
      "24/24 [==============================] - 15s 623ms/step - loss: 0.0117 - val_loss: 0.0076\n",
      "Epoch 118/220\n",
      "24/24 [==============================] - 14s 595ms/step - loss: 0.0110 - val_loss: 0.0076\n",
      "Epoch 119/220\n",
      "24/24 [==============================] - 15s 620ms/step - loss: 0.0112 - val_loss: 0.0091\n",
      "Epoch 120/220\n",
      "24/24 [==============================] - 16s 647ms/step - loss: 0.0114 - val_loss: 0.0085\n",
      "Epoch 121/220\n",
      "24/24 [==============================] - 15s 644ms/step - loss: 0.0117 - val_loss: 0.0087\n",
      "Epoch 122/220\n",
      "24/24 [==============================] - 15s 606ms/step - loss: 0.0111 - val_loss: 0.0080\n",
      "Epoch 123/220\n",
      "24/24 [==============================] - 14s 571ms/step - loss: 0.0209 - val_loss: 0.0250\n",
      "Epoch 124/220\n",
      "24/24 [==============================] - 14s 591ms/step - loss: 0.0395 - val_loss: 0.0122\n",
      "Epoch 125/220\n",
      "24/24 [==============================] - 14s 585ms/step - loss: 0.0176 - val_loss: 0.0094\n",
      "Epoch 126/220\n",
      "24/24 [==============================] - 15s 607ms/step - loss: 0.0144 - val_loss: 0.0102\n",
      "Epoch 127/220\n",
      "24/24 [==============================] - 15s 620ms/step - loss: 0.0131 - val_loss: 0.0088\n",
      "Epoch 128/220\n",
      "24/24 [==============================] - 14s 596ms/step - loss: 0.0124 - val_loss: 0.0086\n",
      "Epoch 129/220\n",
      "24/24 [==============================] - 14s 586ms/step - loss: 0.0125 - val_loss: 0.0084\n",
      "Epoch 130/220\n",
      "24/24 [==============================] - 14s 603ms/step - loss: 0.0123 - val_loss: 0.0084\n",
      "Epoch 131/220\n",
      "24/24 [==============================] - 15s 606ms/step - loss: 0.0121 - val_loss: 0.0088\n",
      "Epoch 132/220\n",
      "24/24 [==============================] - 14s 602ms/step - loss: 0.0114 - val_loss: 0.0102\n",
      "Epoch 133/220\n",
      "24/24 [==============================] - 14s 565ms/step - loss: 0.0117 - val_loss: 0.0080\n",
      "Epoch 134/220\n",
      "24/24 [==============================] - 14s 602ms/step - loss: 0.0124 - val_loss: 0.0085\n",
      "Epoch 135/220\n",
      "24/24 [==============================] - 14s 581ms/step - loss: 0.0126 - val_loss: 0.0083\n",
      "Epoch 136/220\n",
      "24/24 [==============================] - 14s 586ms/step - loss: 0.0113 - val_loss: 0.0078\n",
      "Epoch 137/220\n",
      "24/24 [==============================] - 15s 611ms/step - loss: 0.0115 - val_loss: 0.0084\n",
      "Epoch 138/220\n",
      "24/24 [==============================] - 15s 631ms/step - loss: 0.0118 - val_loss: 0.0077\n",
      "Epoch 139/220\n",
      "24/24 [==============================] - 15s 601ms/step - loss: 0.0110 - val_loss: 0.0082\n",
      "Epoch 140/220\n",
      "24/24 [==============================] - 15s 609ms/step - loss: 0.0113 - val_loss: 0.0080\n",
      "Epoch 141/220\n",
      "24/24 [==============================] - 14s 592ms/step - loss: 0.0112 - val_loss: 0.0084\n",
      "Epoch 142/220\n",
      "24/24 [==============================] - 14s 592ms/step - loss: 0.0113 - val_loss: 0.0078\n",
      "Epoch 143/220\n",
      "24/24 [==============================] - 14s 563ms/step - loss: 0.0110 - val_loss: 0.0079\n",
      "Epoch 144/220\n",
      "24/24 [==============================] - 14s 581ms/step - loss: 0.0115 - val_loss: 0.0087\n",
      "Epoch 145/220\n",
      "24/24 [==============================] - 15s 625ms/step - loss: 0.0114 - val_loss: 0.0084\n",
      "Epoch 146/220\n"
     ]
    },
    {
     "name": "stdout",
     "output_type": "stream",
     "text": [
      "24/24 [==============================] - 14s 586ms/step - loss: 0.0117 - val_loss: 0.0080\n",
      "Epoch 147/220\n",
      "24/24 [==============================] - 14s 593ms/step - loss: 0.0102 - val_loss: 0.0076\n",
      "Epoch 148/220\n",
      "24/24 [==============================] - 14s 592ms/step - loss: 0.0108 - val_loss: 0.0103\n",
      "Epoch 149/220\n",
      "24/24 [==============================] - 14s 586ms/step - loss: 0.0114 - val_loss: 0.0089\n",
      "Epoch 150/220\n",
      "24/24 [==============================] - 14s 570ms/step - loss: 0.0109 - val_loss: 0.0091\n",
      "Epoch 151/220\n",
      "24/24 [==============================] - 14s 572ms/step - loss: 0.0110 - val_loss: 0.0085\n",
      "Epoch 152/220\n",
      "24/24 [==============================] - 14s 578ms/step - loss: 0.0117 - val_loss: 0.0084\n",
      "Epoch 153/220\n",
      "24/24 [==============================] - 14s 573ms/step - loss: 0.0109 - val_loss: 0.0078\n",
      "Epoch 154/220\n",
      "24/24 [==============================] - 14s 583ms/step - loss: 0.0115 - val_loss: 0.0085\n",
      "Epoch 155/220\n",
      "24/24 [==============================] - 14s 586ms/step - loss: 0.0124 - val_loss: 0.0082\n",
      "Epoch 156/220\n",
      "24/24 [==============================] - 14s 579ms/step - loss: 0.0111 - val_loss: 0.0078\n",
      "Epoch 157/220\n",
      "24/24 [==============================] - 14s 579ms/step - loss: 0.0103 - val_loss: 0.0079\n",
      "Epoch 158/220\n",
      "24/24 [==============================] - 14s 578ms/step - loss: 0.0105 - val_loss: 0.0080\n",
      "Epoch 159/220\n",
      "24/24 [==============================] - 13s 558ms/step - loss: 0.0110 - val_loss: 0.0085\n",
      "Epoch 160/220\n",
      "24/24 [==============================] - 14s 568ms/step - loss: 0.0109 - val_loss: 0.0083\n",
      "Epoch 161/220\n",
      "24/24 [==============================] - 13s 560ms/step - loss: 0.0110 - val_loss: 0.0079\n",
      "Epoch 162/220\n",
      "24/24 [==============================] - 14s 569ms/step - loss: 0.0102 - val_loss: 0.0101\n",
      "Epoch 163/220\n",
      "24/24 [==============================] - 14s 572ms/step - loss: 0.0112 - val_loss: 0.0077\n",
      "Epoch 164/220\n",
      "24/24 [==============================] - 13s 557ms/step - loss: 0.0107 - val_loss: 0.0087\n",
      "Epoch 165/220\n",
      "24/24 [==============================] - 14s 575ms/step - loss: 0.0109 - val_loss: 0.0090\n",
      "Epoch 166/220\n",
      "24/24 [==============================] - 14s 576ms/step - loss: 0.0111 - val_loss: 0.0083\n",
      "Epoch 167/220\n",
      "24/24 [==============================] - 14s 581ms/step - loss: 0.0104 - val_loss: 0.0095\n",
      "Epoch 168/220\n",
      "24/24 [==============================] - 14s 589ms/step - loss: 0.0111 - val_loss: 0.0084\n",
      "Epoch 169/220\n",
      "24/24 [==============================] - 14s 575ms/step - loss: 0.0106 - val_loss: 0.0080\n",
      "Epoch 170/220\n",
      "24/24 [==============================] - 14s 578ms/step - loss: 0.0108 - val_loss: 0.0083\n",
      "Epoch 171/220\n",
      "24/24 [==============================] - 14s 602ms/step - loss: 0.0104 - val_loss: 0.0083\n",
      "Epoch 172/220\n",
      "24/24 [==============================] - 15s 632ms/step - loss: 0.0106 - val_loss: 0.0078\n",
      "Epoch 173/220\n",
      "24/24 [==============================] - 14s 582ms/step - loss: 0.0107 - val_loss: 0.0082\n",
      "Epoch 174/220\n",
      "24/24 [==============================] - 14s 592ms/step - loss: 0.0108 - val_loss: 0.0080\n",
      "Epoch 175/220\n",
      "24/24 [==============================] - 14s 578ms/step - loss: 0.0103 - val_loss: 0.0077\n",
      "Epoch 176/220\n",
      "24/24 [==============================] - 14s 575ms/step - loss: 0.0103 - val_loss: 0.0084\n",
      "Epoch 177/220\n",
      "24/24 [==============================] - 14s 587ms/step - loss: 0.0106 - val_loss: 0.0079\n",
      "Epoch 178/220\n",
      "24/24 [==============================] - 14s 596ms/step - loss: 0.0112 - val_loss: 0.0078\n",
      "Epoch 179/220\n",
      "24/24 [==============================] - 14s 582ms/step - loss: 0.0112 - val_loss: 0.0077\n",
      "Epoch 180/220\n",
      "24/24 [==============================] - 14s 598ms/step - loss: 0.0108 - val_loss: 0.0083\n",
      "Epoch 181/220\n",
      "24/24 [==============================] - 14s 600ms/step - loss: 0.0102 - val_loss: 0.0084\n",
      "Epoch 182/220\n",
      "24/24 [==============================] - 14s 578ms/step - loss: 0.0112 - val_loss: 0.0077\n",
      "Epoch 183/220\n",
      "24/24 [==============================] - 14s 592ms/step - loss: 0.0112 - val_loss: 0.0075\n",
      "Epoch 184/220\n",
      "24/24 [==============================] - 14s 576ms/step - loss: 0.0115 - val_loss: 0.0079\n",
      "Epoch 185/220\n",
      "24/24 [==============================] - 14s 590ms/step - loss: 0.0109 - val_loss: 0.0082\n",
      "Epoch 186/220\n",
      "24/24 [==============================] - 13s 549ms/step - loss: 0.0103 - val_loss: 0.0082\n",
      "Epoch 187/220\n",
      "24/24 [==============================] - 14s 577ms/step - loss: 0.0101 - val_loss: 0.0082\n",
      "Epoch 188/220\n",
      "24/24 [==============================] - 14s 567ms/step - loss: 0.0107 - val_loss: 0.0076\n",
      "Epoch 189/220\n",
      "24/24 [==============================] - 14s 568ms/step - loss: 0.0103 - val_loss: 0.0087\n",
      "Epoch 190/220\n",
      "24/24 [==============================] - 14s 566ms/step - loss: 0.0107 - val_loss: 0.0078\n",
      "Epoch 191/220\n",
      "24/24 [==============================] - 14s 584ms/step - loss: 0.0104 - val_loss: 0.0078\n",
      "Epoch 192/220\n",
      "24/24 [==============================] - 14s 589ms/step - loss: 0.0108 - val_loss: 0.0111\n",
      "Epoch 193/220\n",
      "24/24 [==============================] - 13s 563ms/step - loss: 0.0101 - val_loss: 0.0081\n",
      "Epoch 194/220\n",
      "24/24 [==============================] - 14s 571ms/step - loss: 0.0101 - val_loss: 0.0077\n",
      "Epoch 195/220\n",
      "24/24 [==============================] - 14s 565ms/step - loss: 0.0106 - val_loss: 0.0076\n",
      "Epoch 196/220\n",
      "24/24 [==============================] - 14s 590ms/step - loss: 0.0101 - val_loss: 0.0078\n",
      "Epoch 197/220\n",
      "24/24 [==============================] - 13s 560ms/step - loss: 0.0109 - val_loss: 0.0089\n",
      "Epoch 198/220\n",
      "24/24 [==============================] - 14s 569ms/step - loss: 0.0101 - val_loss: 0.0077\n",
      "Epoch 199/220\n",
      "24/24 [==============================] - 13s 560ms/step - loss: 0.0102 - val_loss: 0.0074\n",
      "Epoch 200/220\n",
      "24/24 [==============================] - 14s 594ms/step - loss: 0.0099 - val_loss: 0.0078\n",
      "Epoch 201/220\n",
      "24/24 [==============================] - 15s 619ms/step - loss: 0.0104 - val_loss: 0.0091\n",
      "Epoch 202/220\n",
      "24/24 [==============================] - 13s 550ms/step - loss: 0.0103 - val_loss: 0.0081\n",
      "Epoch 203/220\n",
      "24/24 [==============================] - 14s 572ms/step - loss: 0.0102 - val_loss: 0.0078\n",
      "Epoch 204/220\n",
      "24/24 [==============================] - 14s 563ms/step - loss: 0.0115 - val_loss: 0.0083\n",
      "Epoch 205/220\n",
      "24/24 [==============================] - 13s 561ms/step - loss: 0.0106 - val_loss: 0.0088\n",
      "Epoch 206/220\n",
      "24/24 [==============================] - 13s 546ms/step - loss: 0.0102 - val_loss: 0.0082\n",
      "Epoch 207/220\n",
      "24/24 [==============================] - 14s 572ms/step - loss: 0.0114 - val_loss: 0.0086\n",
      "Epoch 208/220\n",
      "24/24 [==============================] - 14s 567ms/step - loss: 0.0104 - val_loss: 0.0073\n",
      "Epoch 209/220\n",
      "24/24 [==============================] - 14s 571ms/step - loss: 0.0102 - val_loss: 0.0084\n",
      "Epoch 210/220\n",
      "24/24 [==============================] - 14s 573ms/step - loss: 0.0100 - val_loss: 0.0080\n",
      "Epoch 211/220\n",
      "24/24 [==============================] - 14s 579ms/step - loss: 0.0102 - val_loss: 0.0075\n",
      "Epoch 212/220\n",
      "24/24 [==============================] - 13s 548ms/step - loss: 0.0102 - val_loss: 0.0080\n",
      "Epoch 213/220\n",
      "24/24 [==============================] - 14s 579ms/step - loss: 0.0103 - val_loss: 0.0092\n",
      "Epoch 214/220\n",
      "24/24 [==============================] - 13s 560ms/step - loss: 0.0106 - val_loss: 0.0078\n",
      "Epoch 215/220\n",
      "24/24 [==============================] - 13s 562ms/step - loss: 0.0103 - val_loss: 0.0082\n",
      "Epoch 216/220\n",
      "24/24 [==============================] - 14s 582ms/step - loss: 0.0110 - val_loss: 0.0097\n",
      "Epoch 217/220\n",
      "24/24 [==============================] - 13s 561ms/step - loss: 0.0111 - val_loss: 0.0080\n",
      "Epoch 218/220\n",
      "24/24 [==============================] - 13s 555ms/step - loss: 0.0106 - val_loss: 0.0082\n",
      "Epoch 219/220\n",
      "24/24 [==============================] - 14s 583ms/step - loss: 0.0104 - val_loss: 0.0079\n",
      "Epoch 220/220\n",
      "24/24 [==============================] - 15s 625ms/step - loss: 0.0103 - val_loss: 0.0082\n"
     ]
    }
   ],
   "source": [
    "model.compile(optimizer='adam', loss='mean_squared_error')\n",
    "model.summary()\n",
    "\n",
    "history = model.fit(x_train, y_train, epochs = 220, batch_size=32, validation_split=0.1)"
   ]
  },
  {
   "cell_type": "markdown",
   "metadata": {},
   "source": [
    "### Prediction"
   ]
  },
  {
   "cell_type": "code",
   "execution_count": 31,
   "metadata": {},
   "outputs": [],
   "source": [
    "# y_train"
   ]
  },
  {
   "cell_type": "code",
   "execution_count": 32,
   "metadata": {},
   "outputs": [
    {
     "name": "stdout",
     "output_type": "stream",
     "text": [
      "4/4 [==============================] - 1s 153ms/step\n"
     ]
    }
   ],
   "source": [
    "actual_temp = test['CHARGES_SUM'].values\n",
    "total_temp = pd.concat((train['CHARGES_SUM'], test['CHARGES_SUM']),axis=0)\n",
    "\n",
    "model_inputs = total_temp[len(total_temp)-len(test)-prediction_days:].values\n",
    "model_inputs = model_inputs.reshape(-1,1)\n",
    "model_inputs = scaler.transform(model_inputs)\n",
    "\n",
    "\n",
    "# Make Predictions on Test Data\n",
    "x_test = []\n",
    "\n",
    "for x in range(prediction_days, len(model_inputs)):\n",
    "    x_test.append(model_inputs[x-prediction_days:x, 0])\n",
    "\n",
    "x_test = np.array(x_test)\n",
    "x_test = np.reshape(x_test, (x_test.shape[0], x_test.shape[1], 1))\n",
    "\n",
    "pred = model.predict(x_test)\n",
    "pred = scaler.inverse_transform(pred)"
   ]
  },
  {
   "cell_type": "code",
   "execution_count": 33,
   "metadata": {},
   "outputs": [
    {
     "data": {
      "text/plain": [
       "385550.7073019802"
      ]
     },
     "execution_count": 33,
     "metadata": {},
     "output_type": "execute_result"
    }
   ],
   "source": [
    "mean_absolute_error(test['CHARGES_SUM'], pred)"
   ]
  },
  {
   "cell_type": "markdown",
   "metadata": {},
   "source": [
    "### Plotting"
   ]
  },
  {
   "cell_type": "code",
   "execution_count": 34,
   "metadata": {},
   "outputs": [
    {
     "name": "stderr",
     "output_type": "stream",
     "text": [
      "/tmp/ipykernel_2648838/3077505356.py:2: SettingWithCopyWarning: \n",
      "A value is trying to be set on a copy of a slice from a DataFrame.\n",
      "Try using .loc[row_indexer,col_indexer] = value instead\n",
      "\n",
      "See the caveats in the documentation: https://pandas.pydata.org/pandas-docs/stable/user_guide/indexing.html#returning-a-view-versus-a-copy\n",
      "  pred_['CHARGES_SUM'] = pred\n"
     ]
    }
   ],
   "source": [
    "pred_ = test\n",
    "pred_['CHARGES_SUM'] = pred\n",
    "\n",
    "pred_\n",
    "original = charges_data.loc['2022-01-01':]"
   ]
  },
  {
   "cell_type": "code",
   "execution_count": 35,
   "metadata": {},
   "outputs": [],
   "source": [
    "def calcsmape(actual, forecast):\n",
    "    ytrue = np.array(actual)\n",
    "    ypred = np.array(forecast)\n",
    "    return np.mean(np.abs(ytrue - ypred) / ytrue) * 100"
   ]
  },
  {
   "cell_type": "code",
   "execution_count": 1,
   "metadata": {},
   "outputs": [],
   "source": [
    "calcsmape(test['CHARGES_SUM'], test['pred'])"
   ]
  },
  {
   "cell_type": "code",
   "execution_count": null,
   "metadata": {},
   "outputs": [],
   "source": []
  },
  {
   "cell_type": "code",
   "execution_count": null,
   "metadata": {},
   "outputs": [],
   "source": [
    "plt.rcParams[\"figure.figsize\"] = (18,7)\n",
    "plt.plot(original.loc['2022-01-01':], color = 'r', label='Actual')\n",
    "plt.plot(pred_, color = 'g', label='Predict')\n",
    "\n",
    "plt.legend()"
   ]
  },
  {
   "cell_type": "code",
   "execution_count": null,
   "metadata": {},
   "outputs": [],
   "source": [
    "original.head(10)"
   ]
  },
  {
   "cell_type": "code",
   "execution_count": null,
   "metadata": {},
   "outputs": [],
   "source": [
    "s=pred_.copy()\n",
    "t=original.copy()\n",
    "s.CHARGES_SUM = s.CHARGES_SUM.apply(int)"
   ]
  },
  {
   "cell_type": "code",
   "execution_count": null,
   "metadata": {},
   "outputs": [],
   "source": [
    "s.reset_index(level=0,inplace=True)\n",
    "t.reset_index(level=0,inplace=True)"
   ]
  },
  {
   "cell_type": "code",
   "execution_count": null,
   "metadata": {},
   "outputs": [],
   "source": [
    "s['week'] = s['DOS'].dt.day_name()\n",
    "t['week'] = t['DOS'].dt.day_name()"
   ]
  },
  {
   "cell_type": "code",
   "execution_count": null,
   "metadata": {},
   "outputs": [],
   "source": [
    "s[(s['week']!='Saturday')&(s['week']!='Sunday')&(s['week']!='Friday')]"
   ]
  },
  {
   "cell_type": "code",
   "execution_count": null,
   "metadata": {},
   "outputs": [],
   "source": [
    "print(np.mean(s.CHARGES_SUM-t.CHARGES_SUM))"
   ]
  },
  {
   "cell_type": "code",
   "execution_count": null,
   "metadata": {
    "scrolled": true
   },
   "outputs": [],
   "source": [
    "Y=pd.merge(\n",
    "    s[(s['week']!='Saturday')&(s['week']!='Sunday')&(s['week']!='Friday')],\n",
    "    t[(t['week']!='Saturday')&(t['week']!='Sunday')&(t['week']!='Friday')],\n",
    "    how=\"inner\",\n",
    "    on=['DOS'],\n",
    "    left_on=None,\n",
    "    right_on=None,\n",
    "    left_index=False,\n",
    "    right_index=False,\n",
    "    sort=True,\n",
    "    suffixes=(\"_x\", \"_y\"),\n",
    "    copy=True,\n",
    "    indicator=False,\n",
    "    validate=None,\n",
    ")\n",
    "Y.head(60)"
   ]
  },
  {
   "cell_type": "code",
   "execution_count": null,
   "metadata": {},
   "outputs": [],
   "source": []
  },
  {
   "cell_type": "code",
   "execution_count": null,
   "metadata": {},
   "outputs": [],
   "source": []
  },
  {
   "cell_type": "code",
   "execution_count": null,
   "metadata": {},
   "outputs": [],
   "source": []
  },
  {
   "cell_type": "code",
   "execution_count": null,
   "metadata": {},
   "outputs": [],
   "source": []
  }
 ],
 "metadata": {
  "kernelspec": {
   "display_name": "Python 3 (ipykernel)",
   "language": "python",
   "name": "python3"
  },
  "language_info": {
   "codemirror_mode": {
    "name": "ipython",
    "version": 3
   },
   "file_extension": ".py",
   "mimetype": "text/x-python",
   "name": "python",
   "nbconvert_exporter": "python",
   "pygments_lexer": "ipython3",
   "version": "3.9.12"
  }
 },
 "nbformat": 4,
 "nbformat_minor": 2
}
