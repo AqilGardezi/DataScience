{
 "cells": [
  {
   "cell_type": "code",
   "execution_count": 1,
   "metadata": {},
   "outputs": [
    {
     "name": "stderr",
     "output_type": "stream",
     "text": [
      "2022-10-25 19:54:03.354700: W tensorflow/stream_executor/platform/default/dso_loader.cc:64] Could not load dynamic library 'libcudart.so.11.0'; dlerror: libcudart.so.11.0: cannot open shared object file: No such file or directory\n",
      "2022-10-25 19:54:03.354768: I tensorflow/stream_executor/cuda/cudart_stub.cc:29] Ignore above cudart dlerror if you do not have a GPU set up on your machine.\n"
     ]
    }
   ],
   "source": [
    "import numpy as np # linear algebra\n",
    "import pandas as pd # data processing, CSV file I/O (e.g. pd.read_csv)\n",
    "import matplotlib as mpl\n",
    "import matplotlib.pyplot as plt \n",
    "import pymssql\n",
    "# import seaborn as sns\n",
    "import sklearn\n",
    "from sklearn.preprocessing import MinMaxScaler\n",
    "from tensorflow.keras.models import Sequential\n",
    "from tensorflow.keras.layers import Dense, Dropout, LSTM\n",
    "from sklearn.metrics import mean_absolute_error\n",
    "import seaborn as sns\n",
    "from keras.preprocessing.sequence import TimeseriesGenerator"
   ]
  },
  {
   "cell_type": "code",
   "execution_count": 2,
   "metadata": {},
   "outputs": [],
   "source": [
    "def get_data():\n",
    "    df=pd.DataFrame()\n",
    "    try:\n",
    "        con = pymssql.connect(user='ds_rcm',password = 'mtbc@123'\n",
    "                     ,host='172.16.0.32',database='mis_db',autocommit = True)\n",
    "    except Exception as e:\n",
    "        print('unable to make connection',e)\n",
    "    cur=con.cursor()\n",
    "\n",
    "    query = \"\"\"\n",
    "    \n",
    "SELECT CONVERT(date, CP.DATE_ENTRY) as Date, COUNT(DISTINCT C.CLAIM_NO) as Claims,\n",
    "        SUM(CP.AMOUNT_PAID)'PAYMENTS'\n",
    "        FROM PATIENT AS P\n",
    "        JOIN CLAIMS AS C ON P.PATIENT_ACCOUNT=C.PATIENT_ACCOUNT\n",
    "\n",
    "AND ISNULL(C.DELETED,0)=0\n",
    "        AND ISNULL(P.DELETED,0)=0\n",
    "        JOIN CLAIM_PAYMENTS AS CP ON C.CLAIM_NO=CP.CLAIM_NO\n",
    "        AND ISNULL(CP.DELETED,0)=0\n",
    "        JOIN PRACTICES AS PR ON PR.PRACTICE_CODE=P.PRACTICE_CODE\n",
    "        AND PR.IS_ACTIVE=1 AND ISNULL(PR.IS_TEST_PRACTICE,0)=0\n",
    "        AND ISNULL(PR.EXCLUDE_FROM_BILLING_REPORTS,0) = 0\n",
    "        AND PR.EMR_NAME NOT IN ('CHARTS PRO','PM STANDALONE','TESTINGPRACTICE')\n",
    "        AND PR.PRACTICE_CODE NOT LIKE '9090%' AND PR.PRAC_NAME NOT LIKE '%TEST%'\n",
    "        WHERE CONVERT(date, CP.DATE_ENTRY) BETWEEN  CONVERT(date, '01-01-2019')\n",
    "        AND CONVERT(date, '06-30-2022')\n",
    "        GROUP BY CONVERT(date, CP.DATE_ENTRY)\n",
    "        ORDER BY CONVERT(date, CP.DATE_ENTRY) ASC\n",
    "        \"\"\"\n",
    "    try:\n",
    "        cur.execute(query)\n",
    "        df=pd.DataFrame(cur.fetchall(),columns=[x[0] for x in cur.description])\n",
    "#         print(df)\n",
    "#         df.columns=df.columns.str.upper()\n",
    "        con.close()\n",
    "    except:\n",
    "        print('Error in reading data.....')\n",
    "        con.close()\n",
    "    return df"
   ]
  },
  {
   "cell_type": "code",
   "execution_count": 3,
   "metadata": {},
   "outputs": [],
   "source": [
    "# claims = get_data()"
   ]
  },
  {
   "cell_type": "code",
   "execution_count": 4,
   "metadata": {},
   "outputs": [],
   "source": [
    "# claims.to_csv('Payments_Data.csv')"
   ]
  },
  {
   "cell_type": "code",
   "execution_count": 5,
   "metadata": {},
   "outputs": [],
   "source": [
    "# claims = pd.read_csv('Payments_Data.csv')"
   ]
  },
  {
   "cell_type": "code",
   "execution_count": 319,
   "metadata": {},
   "outputs": [],
   "source": [
    "# claims = pd.read_csv('new_for_aaqil.csv')"
   ]
  },
  {
   "cell_type": "code",
   "execution_count": 4,
   "metadata": {},
   "outputs": [
    {
     "data": {
      "text/html": [
       "<div>\n",
       "<style scoped>\n",
       "    .dataframe tbody tr th:only-of-type {\n",
       "        vertical-align: middle;\n",
       "    }\n",
       "\n",
       "    .dataframe tbody tr th {\n",
       "        vertical-align: top;\n",
       "    }\n",
       "\n",
       "    .dataframe thead th {\n",
       "        text-align: right;\n",
       "    }\n",
       "</style>\n",
       "<table border=\"1\" class=\"dataframe\">\n",
       "  <thead>\n",
       "    <tr style=\"text-align: right;\">\n",
       "      <th></th>\n",
       "      <th>Date</th>\n",
       "      <th>Claims</th>\n",
       "      <th>PAYMENTS</th>\n",
       "    </tr>\n",
       "  </thead>\n",
       "  <tbody>\n",
       "    <tr>\n",
       "      <th>0</th>\n",
       "      <td>2019-01-01</td>\n",
       "      <td>15589</td>\n",
       "      <td>696717.6800</td>\n",
       "    </tr>\n",
       "    <tr>\n",
       "      <th>1</th>\n",
       "      <td>2019-01-02</td>\n",
       "      <td>25068</td>\n",
       "      <td>1133132.8630</td>\n",
       "    </tr>\n",
       "    <tr>\n",
       "      <th>2</th>\n",
       "      <td>2019-01-03</td>\n",
       "      <td>30796</td>\n",
       "      <td>1560087.9600</td>\n",
       "    </tr>\n",
       "    <tr>\n",
       "      <th>3</th>\n",
       "      <td>2019-01-04</td>\n",
       "      <td>32438</td>\n",
       "      <td>1605829.1200</td>\n",
       "    </tr>\n",
       "    <tr>\n",
       "      <th>4</th>\n",
       "      <td>2019-01-05</td>\n",
       "      <td>9597</td>\n",
       "      <td>429901.3300</td>\n",
       "    </tr>\n",
       "  </tbody>\n",
       "</table>\n",
       "</div>"
      ],
      "text/plain": [
       "         Date  Claims      PAYMENTS\n",
       "0  2019-01-01   15589   696717.6800\n",
       "1  2019-01-02   25068  1133132.8630\n",
       "2  2019-01-03   30796  1560087.9600\n",
       "3  2019-01-04   32438  1605829.1200\n",
       "4  2019-01-05    9597   429901.3300"
      ]
     },
     "execution_count": 4,
     "metadata": {},
     "output_type": "execute_result"
    }
   ],
   "source": [
    "claims.head()"
   ]
  },
  {
   "cell_type": "code",
   "execution_count": 321,
   "metadata": {},
   "outputs": [],
   "source": [
    "# print(claims.describe())"
   ]
  },
  {
   "cell_type": "code",
   "execution_count": 5,
   "metadata": {},
   "outputs": [],
   "source": [
    "claims = claims[[\"Date\", \"PAYMENTS\"]]"
   ]
  },
  {
   "cell_type": "code",
   "execution_count": 6,
   "metadata": {},
   "outputs": [],
   "source": [
    "claims.PAYMENTS = claims.PAYMENTS.apply(int)"
   ]
  },
  {
   "cell_type": "code",
   "execution_count": 7,
   "metadata": {},
   "outputs": [],
   "source": [
    "# print(claims.PAYMENTS.apply(int).describe())"
   ]
  },
  {
   "cell_type": "code",
   "execution_count": 8,
   "metadata": {},
   "outputs": [
    {
     "data": {
      "text/html": [
       "<div>\n",
       "<style scoped>\n",
       "    .dataframe tbody tr th:only-of-type {\n",
       "        vertical-align: middle;\n",
       "    }\n",
       "\n",
       "    .dataframe tbody tr th {\n",
       "        vertical-align: top;\n",
       "    }\n",
       "\n",
       "    .dataframe thead th {\n",
       "        text-align: right;\n",
       "    }\n",
       "</style>\n",
       "<table border=\"1\" class=\"dataframe\">\n",
       "  <thead>\n",
       "    <tr style=\"text-align: right;\">\n",
       "      <th></th>\n",
       "      <th>Date</th>\n",
       "      <th>PAYMENTS</th>\n",
       "    </tr>\n",
       "  </thead>\n",
       "  <tbody>\n",
       "    <tr>\n",
       "      <th>0</th>\n",
       "      <td>2019-01-01</td>\n",
       "      <td>696717</td>\n",
       "    </tr>\n",
       "    <tr>\n",
       "      <th>1</th>\n",
       "      <td>2019-01-02</td>\n",
       "      <td>1133132</td>\n",
       "    </tr>\n",
       "    <tr>\n",
       "      <th>2</th>\n",
       "      <td>2019-01-03</td>\n",
       "      <td>1560087</td>\n",
       "    </tr>\n",
       "    <tr>\n",
       "      <th>3</th>\n",
       "      <td>2019-01-04</td>\n",
       "      <td>1605829</td>\n",
       "    </tr>\n",
       "    <tr>\n",
       "      <th>4</th>\n",
       "      <td>2019-01-05</td>\n",
       "      <td>429901</td>\n",
       "    </tr>\n",
       "  </tbody>\n",
       "</table>\n",
       "</div>"
      ],
      "text/plain": [
       "         Date  PAYMENTS\n",
       "0  2019-01-01    696717\n",
       "1  2019-01-02   1133132\n",
       "2  2019-01-03   1560087\n",
       "3  2019-01-04   1605829\n",
       "4  2019-01-05    429901"
      ]
     },
     "execution_count": 8,
     "metadata": {},
     "output_type": "execute_result"
    }
   ],
   "source": [
    "claims.head()"
   ]
  },
  {
   "cell_type": "code",
   "execution_count": 9,
   "metadata": {},
   "outputs": [
    {
     "data": {
      "text/plain": [
       "Date        0\n",
       "PAYMENTS    0\n",
       "dtype: int64"
      ]
     },
     "execution_count": 9,
     "metadata": {},
     "output_type": "execute_result"
    }
   ],
   "source": [
    "claims.isnull().sum()"
   ]
  },
  {
   "cell_type": "code",
   "execution_count": 10,
   "metadata": {},
   "outputs": [
    {
     "data": {
      "text/plain": [
       "1277"
      ]
     },
     "execution_count": 10,
     "metadata": {},
     "output_type": "execute_result"
    }
   ],
   "source": [
    "len(claims)"
   ]
  },
  {
   "cell_type": "code",
   "execution_count": 11,
   "metadata": {},
   "outputs": [],
   "source": [
    "claims[\"Date\"] = pd.to_datetime(claims[\"Date\"])\n",
    "claims = claims.sort_values('Date')\n",
    "claims =claims.set_index(\"Date\")"
   ]
  },
  {
   "cell_type": "code",
   "execution_count": 12,
   "metadata": {},
   "outputs": [
    {
     "data": {
      "text/plain": [
       "<AxesSubplot:xlabel='Date'>"
      ]
     },
     "execution_count": 12,
     "metadata": {},
     "output_type": "execute_result"
    },
    {
     "data": {
      "image/png": "[encoded data removed]",
      "text/plain": [
       "<Figure size 1440x864 with 1 Axes>"
      ]
     },
     "metadata": {
      "needs_background": "light"
     },
     "output_type": "display_data"
    }
   ],
   "source": [
    "claims.plot(figsize=(20,12))"
   ]
  },
  {
   "cell_type": "code",
   "execution_count": 13,
   "metadata": {},
   "outputs": [],
   "source": [
    "# check_p = claims.loc['2021-04-01':]\n",
    "# check_p.PAYMENTS = check_p.PAYMENTS.apply(int)"
   ]
  },
  {
   "cell_type": "code",
   "execution_count": 14,
   "metadata": {},
   "outputs": [],
   "source": [
    "# check_p.head(60)"
   ]
  },
  {
   "cell_type": "code",
   "execution_count": null,
   "metadata": {},
   "outputs": [],
   "source": []
  },
  {
   "cell_type": "code",
   "execution_count": 15,
   "metadata": {},
   "outputs": [],
   "source": [
    "# check = claims.loc['2021-08-01':]"
   ]
  },
  {
   "cell_type": "code",
   "execution_count": 16,
   "metadata": {},
   "outputs": [],
   "source": [
    "# check.head(60)"
   ]
  },
  {
   "cell_type": "code",
   "execution_count": null,
   "metadata": {},
   "outputs": [],
   "source": []
  },
  {
   "cell_type": "code",
   "execution_count": 17,
   "metadata": {},
   "outputs": [],
   "source": [
    "from statsmodels.tsa.seasonal import seasonal_decompose"
   ]
  },
  {
   "cell_type": "code",
   "execution_count": 18,
   "metadata": {},
   "outputs": [],
   "source": [
    "dec= seasonal_decompose(claims['PAYMENTS'])"
   ]
  },
  {
   "cell_type": "code",
   "execution_count": 19,
   "metadata": {},
   "outputs": [
    {
     "data": {
      "image/png": "[encoded data removed]",
      "text/plain": [
       "<Figure size 432x288 with 4 Axes>"
      ]
     },
     "metadata": {
      "needs_background": "light"
     },
     "output_type": "display_data"
    }
   ],
   "source": [
    "dec.plot();"
   ]
  },
  {
   "cell_type": "code",
   "execution_count": 20,
   "metadata": {},
   "outputs": [],
   "source": [
    "train = claims.loc[:'2022-04-30']\n",
    "test = claims.loc['2022-05-01':]\n"
   ]
  },
  {
   "cell_type": "code",
   "execution_count": 21,
   "metadata": {},
   "outputs": [
    {
     "data": {
      "text/plain": [
       "1216"
      ]
     },
     "execution_count": 21,
     "metadata": {},
     "output_type": "execute_result"
    }
   ],
   "source": [
    "len(train)"
   ]
  },
  {
   "cell_type": "code",
   "execution_count": 22,
   "metadata": {},
   "outputs": [
    {
     "data": {
      "text/plain": [
       "61"
      ]
     },
     "execution_count": 22,
     "metadata": {},
     "output_type": "execute_result"
    }
   ],
   "source": [
    "len(test)"
   ]
  },
  {
   "cell_type": "code",
   "execution_count": 23,
   "metadata": {},
   "outputs": [],
   "source": [
    "scaler = MinMaxScaler()"
   ]
  },
  {
   "cell_type": "code",
   "execution_count": 24,
   "metadata": {},
   "outputs": [
    {
     "data": {
      "text/html": [
       "<style>#sk-container-id-1 {color: black;background-color: white;}#sk-container-id-1 pre{padding: 0;}#sk-container-id-1 div.sk-toggleable {background-color: white;}#sk-container-id-1 label.sk-toggleable__label {cursor: pointer;display: block;width: 100%;margin-bottom: 0;padding: 0.3em;box-sizing: border-box;text-align: center;}#sk-container-id-1 label.sk-toggleable__label-arrow:before {content: \"▸\";float: left;margin-right: 0.25em;color: #696969;}#sk-container-id-1 label.sk-toggleable__label-arrow:hover:before {color: black;}#sk-container-id-1 div.sk-estimator:hover label.sk-toggleable__label-arrow:before {color: black;}#sk-container-id-1 div.sk-toggleable__content {max-height: 0;max-width: 0;overflow: hidden;text-align: left;background-color: #f0f8ff;}#sk-container-id-1 div.sk-toggleable__content pre {margin: 0.2em;color: black;border-radius: 0.25em;background-color: #f0f8ff;}#sk-container-id-1 input.sk-toggleable__control:checked~div.sk-toggleable__content {max-height: 200px;max-width: 100%;overflow: auto;}#sk-container-id-1 input.sk-toggleable__control:checked~label.sk-toggleable__label-arrow:before {content: \"▾\";}#sk-container-id-1 div.sk-estimator input.sk-toggleable__control:checked~label.sk-toggleable__label {background-color: #d4ebff;}#sk-container-id-1 div.sk-label input.sk-toggleable__control:checked~label.sk-toggleable__label {background-color: #d4ebff;}#sk-container-id-1 input.sk-hidden--visually {border: 0;clip: rect(1px 1px 1px 1px);clip: rect(1px, 1px, 1px, 1px);height: 1px;margin: -1px;overflow: hidden;padding: 0;position: absolute;width: 1px;}#sk-container-id-1 div.sk-estimator {font-family: monospace;background-color: #f0f8ff;border: 1px dotted black;border-radius: 0.25em;box-sizing: border-box;margin-bottom: 0.5em;}#sk-container-id-1 div.sk-estimator:hover {background-color: #d4ebff;}#sk-container-id-1 div.sk-parallel-item::after {content: \"\";width: 100%;border-bottom: 1px solid gray;flex-grow: 1;}#sk-container-id-1 div.sk-label:hover label.sk-toggleable__label {background-color: #d4ebff;}#sk-container-id-1 div.sk-serial::before {content: \"\";position: absolute;border-left: 1px solid gray;box-sizing: border-box;top: 0;bottom: 0;left: 50%;z-index: 0;}#sk-container-id-1 div.sk-serial {display: flex;flex-direction: column;align-items: center;background-color: white;padding-right: 0.2em;padding-left: 0.2em;position: relative;}#sk-container-id-1 div.sk-item {position: relative;z-index: 1;}#sk-container-id-1 div.sk-parallel {display: flex;align-items: stretch;justify-content: center;background-color: white;position: relative;}#sk-container-id-1 div.sk-item::before, #sk-container-id-1 div.sk-parallel-item::before {content: \"\";position: absolute;border-left: 1px solid gray;box-sizing: border-box;top: 0;bottom: 0;left: 50%;z-index: -1;}#sk-container-id-1 div.sk-parallel-item {display: flex;flex-direction: column;z-index: 1;position: relative;background-color: white;}#sk-container-id-1 div.sk-parallel-item:first-child::after {align-self: flex-end;width: 50%;}#sk-container-id-1 div.sk-parallel-item:last-child::after {align-self: flex-start;width: 50%;}#sk-container-id-1 div.sk-parallel-item:only-child::after {width: 0;}#sk-container-id-1 div.sk-dashed-wrapped {border: 1px dashed gray;margin: 0 0.4em 0.5em 0.4em;box-sizing: border-box;padding-bottom: 0.4em;background-color: white;}#sk-container-id-1 div.sk-label label {font-family: monospace;font-weight: bold;display: inline-block;line-height: 1.2em;}#sk-container-id-1 div.sk-label-container {text-align: center;}#sk-container-id-1 div.sk-container {/* jupyter's `normalize.less` sets `[hidden] { display: none; }` but bootstrap.min.css set `[hidden] { display: none !important; }` so we also need the `!important` here to be able to override the default hidden behavior on the sphinx rendered scikit-learn.org. See: https://github.com/scikit-learn/scikit-learn/issues/21755 */display: inline-block !important;position: relative;}#sk-container-id-1 div.sk-text-repr-fallback {display: none;}</style><div id=\"sk-container-id-1\" class=\"sk-top-container\"><div class=\"sk-text-repr-fallback\"><pre>MinMaxScaler()</pre><b>In a Jupyter environment, please rerun this cell to show the HTML representation or trust the notebook. <br />On GitHub, the HTML representation is unable to render, please try loading this page with nbviewer.org.</b></div><div class=\"sk-container\" hidden><div class=\"sk-item\"><div class=\"sk-estimator sk-toggleable\"><input class=\"sk-toggleable__control sk-hidden--visually\" id=\"sk-estimator-id-1\" type=\"checkbox\" checked><label for=\"sk-estimator-id-1\" class=\"sk-toggleable__label sk-toggleable__label-arrow\">MinMaxScaler</label><div class=\"sk-toggleable__content\"><pre>MinMaxScaler()</pre></div></div></div></div></div>"
      ],
      "text/plain": [
       "MinMaxScaler()"
      ]
     },
     "execution_count": 24,
     "metadata": {},
     "output_type": "execute_result"
    }
   ],
   "source": [
    "scaler.fit(train)"
   ]
  },
  {
   "cell_type": "code",
   "execution_count": 25,
   "metadata": {},
   "outputs": [],
   "source": [
    "scaled_train = scaler.transform(train)"
   ]
  },
  {
   "cell_type": "code",
   "execution_count": 26,
   "metadata": {},
   "outputs": [],
   "source": [
    "scaled_test = scaler.transform(test) "
   ]
  },
  {
   "cell_type": "code",
   "execution_count": 27,
   "metadata": {},
   "outputs": [
    {
     "data": {
      "text/plain": [
       "1216"
      ]
     },
     "execution_count": 27,
     "metadata": {},
     "output_type": "execute_result"
    }
   ],
   "source": [
    "len(scaled_train)"
   ]
  },
  {
   "cell_type": "code",
   "execution_count": 28,
   "metadata": {},
   "outputs": [],
   "source": [
    "# define generator\n",
    "n_input = 32\n",
    "n_features = 1\n",
    "generator = TimeseriesGenerator(scaled_train, scaled_train, length=n_input, batch_size=32\n",
    "                               )"
   ]
  },
  {
   "cell_type": "code",
   "execution_count": 29,
   "metadata": {},
   "outputs": [
    {
     "name": "stderr",
     "output_type": "stream",
     "text": [
      "2022-10-25 19:55:12.545209: W tensorflow/stream_executor/platform/default/dso_loader.cc:64] Could not load dynamic library 'libcudart.so.11.0'; dlerror: libcudart.so.11.0: cannot open shared object file: No such file or directory\n",
      "2022-10-25 19:55:12.545496: W tensorflow/stream_executor/platform/default/dso_loader.cc:64] Could not load dynamic library 'libcublas.so.11'; dlerror: libcublas.so.11: cannot open shared object file: No such file or directory\n",
      "2022-10-25 19:55:12.545642: W tensorflow/stream_executor/platform/default/dso_loader.cc:64] Could not load dynamic library 'libcublasLt.so.11'; dlerror: libcublasLt.so.11: cannot open shared object file: No such file or directory\n",
      "2022-10-25 19:55:12.545781: W tensorflow/stream_executor/platform/default/dso_loader.cc:64] Could not load dynamic library 'libcufft.so.10'; dlerror: libcufft.so.10: cannot open shared object file: No such file or directory\n",
      "2022-10-25 19:55:12.545917: W tensorflow/stream_executor/platform/default/dso_loader.cc:64] Could not load dynamic library 'libcurand.so.10'; dlerror: libcurand.so.10: cannot open shared object file: No such file or directory\n",
      "2022-10-25 19:55:12.546062: W tensorflow/stream_executor/platform/default/dso_loader.cc:64] Could not load dynamic library 'libcusolver.so.11'; dlerror: libcusolver.so.11: cannot open shared object file: No such file or directory\n",
      "2022-10-25 19:55:12.546213: W tensorflow/stream_executor/platform/default/dso_loader.cc:64] Could not load dynamic library 'libcusparse.so.11'; dlerror: libcusparse.so.11: cannot open shared object file: No such file or directory\n",
      "2022-10-25 19:55:12.546356: W tensorflow/stream_executor/platform/default/dso_loader.cc:64] Could not load dynamic library 'libcudnn.so.8'; dlerror: libcudnn.so.8: cannot open shared object file: No such file or directory\n",
      "2022-10-25 19:55:12.546382: W tensorflow/core/common_runtime/gpu/gpu_device.cc:1850] Cannot dlopen some GPU libraries. Please make sure the missing libraries mentioned above are installed properly if you would like to use GPU. Follow the guide at https://www.tensorflow.org/install/gpu for how to download and setup the required libraries for your platform.\n",
      "Skipping registering GPU devices...\n"
     ]
    }
   ],
   "source": [
    "model = Sequential()\n",
    "\n",
    "model.add(LSTM(units =128, activation='relu', return_sequences=True, input_shape = (n_input, n_features)))\n",
    "model.add(Dropout(0.2))\n",
    "model.add(LSTM(units =128, activation='relu', return_sequences=True))\n",
    "model.add(Dropout(0.2))\n",
    "model.add(LSTM(units =128, activation='relu', return_sequences=False))\n",
    "model.add(Dropout(0.2))\n",
    "model.add(Dense(units=1)) # Prediction of the next value\n",
    "model.compile(optimizer='adam', loss='mse')"
   ]
  },
  {
   "cell_type": "code",
   "execution_count": 30,
   "metadata": {},
   "outputs": [
    {
     "name": "stdout",
     "output_type": "stream",
     "text": [
      "Model: \"sequential\"\n",
      "_________________________________________________________________\n",
      " Layer (type)                Output Shape              Param #   \n",
      "=================================================================\n",
      " lstm (LSTM)                 (None, 32, 128)           66560     \n",
      "                                                                 \n",
      " dropout (Dropout)           (None, 32, 128)           0         \n",
      "                                                                 \n",
      " lstm_1 (LSTM)               (None, 32, 128)           131584    \n",
      "                                                                 \n",
      " dropout_1 (Dropout)         (None, 32, 128)           0         \n",
      "                                                                 \n",
      " lstm_2 (LSTM)               (None, 128)               131584    \n",
      "                                                                 \n",
      " dropout_2 (Dropout)         (None, 128)               0         \n",
      "                                                                 \n",
      " dense (Dense)               (None, 1)                 129       \n",
      "                                                                 \n",
      "=================================================================\n",
      "Total params: 329,857\n",
      "Trainable params: 329,857\n",
      "Non-trainable params: 0\n",
      "_________________________________________________________________\n"
     ]
    }
   ],
   "source": [
    "model.summary()"
   ]
  },
  {
   "cell_type": "code",
   "execution_count": 31,
   "metadata": {
    "scrolled": true
   },
   "outputs": [
    {
     "name": "stdout",
     "output_type": "stream",
     "text": [
      "Epoch 1/250\n",
      "37/37 [==============================] - 9s 115ms/step - loss: 0.0429\n",
      "Epoch 2/250\n",
      "37/37 [==============================] - 4s 117ms/step - loss: 0.0025\n",
      "Epoch 3/250\n",
      "37/37 [==============================] - 4s 112ms/step - loss: 0.0021\n",
      "Epoch 4/250\n",
      "37/37 [==============================] - 4s 116ms/step - loss: 0.0021\n",
      "Epoch 5/250\n",
      "37/37 [==============================] - 4s 114ms/step - loss: 0.0020\n",
      "Epoch 6/250\n",
      "37/37 [==============================] - 4s 117ms/step - loss: 0.0018\n",
      "Epoch 7/250\n",
      "37/37 [==============================] - 4s 114ms/step - loss: 0.0018\n",
      "Epoch 8/250\n",
      "37/37 [==============================] - 4s 117ms/step - loss: 0.0018\n",
      "Epoch 9/250\n",
      "37/37 [==============================] - 4s 111ms/step - loss: 0.0018\n",
      "Epoch 10/250\n",
      "37/37 [==============================] - 4s 113ms/step - loss: 0.0016\n",
      "Epoch 11/250\n",
      "37/37 [==============================] - 4s 111ms/step - loss: 0.0015\n",
      "Epoch 12/250\n",
      "37/37 [==============================] - 4s 113ms/step - loss: 0.0016\n",
      "Epoch 13/250\n",
      "37/37 [==============================] - 4s 114ms/step - loss: 0.0015\n",
      "Epoch 14/250\n",
      "37/37 [==============================] - 4s 114ms/step - loss: 0.0016\n",
      "Epoch 15/250\n",
      "37/37 [==============================] - 4s 109ms/step - loss: 0.0016\n",
      "Epoch 16/250\n",
      "37/37 [==============================] - 4s 117ms/step - loss: 0.0014\n",
      "Epoch 17/250\n",
      "37/37 [==============================] - 4s 111ms/step - loss: 0.0016\n",
      "Epoch 18/250\n",
      "37/37 [==============================] - 4s 114ms/step - loss: 0.0015\n",
      "Epoch 19/250\n",
      "37/37 [==============================] - 4s 116ms/step - loss: 0.0015\n",
      "Epoch 20/250\n",
      "37/37 [==============================] - 4s 114ms/step - loss: 0.0014\n",
      "Epoch 21/250\n",
      "37/37 [==============================] - 4s 114ms/step - loss: 0.0014\n",
      "Epoch 22/250\n",
      "37/37 [==============================] - 4s 112ms/step - loss: 0.0017\n",
      "Epoch 23/250\n",
      "37/37 [==============================] - 4s 106ms/step - loss: 0.0015\n",
      "Epoch 24/250\n",
      "37/37 [==============================] - 4s 109ms/step - loss: 0.0014\n",
      "Epoch 25/250\n",
      "37/37 [==============================] - 4s 109ms/step - loss: 0.0014\n",
      "Epoch 26/250\n",
      "37/37 [==============================] - 4s 113ms/step - loss: 0.0014\n",
      "Epoch 27/250\n",
      "37/37 [==============================] - 4s 115ms/step - loss: 0.0013\n",
      "Epoch 28/250\n",
      "37/37 [==============================] - 4s 112ms/step - loss: 0.0013\n",
      "Epoch 29/250\n",
      "37/37 [==============================] - 4s 115ms/step - loss: 0.0014\n",
      "Epoch 30/250\n",
      "37/37 [==============================] - 4s 111ms/step - loss: 0.0013\n",
      "Epoch 31/250\n",
      "37/37 [==============================] - 4s 118ms/step - loss: 0.0013\n",
      "Epoch 32/250\n",
      "37/37 [==============================] - 4s 110ms/step - loss: 0.0013\n",
      "Epoch 33/250\n",
      "37/37 [==============================] - 4s 117ms/step - loss: 0.0013\n",
      "Epoch 34/250\n",
      "37/37 [==============================] - 4s 110ms/step - loss: 0.0013\n",
      "Epoch 35/250\n",
      "37/37 [==============================] - 4s 115ms/step - loss: 0.0013\n",
      "Epoch 36/250\n",
      "37/37 [==============================] - 4s 109ms/step - loss: 0.0013\n",
      "Epoch 37/250\n",
      "37/37 [==============================] - 4s 116ms/step - loss: 0.0013\n",
      "Epoch 38/250\n",
      "37/37 [==============================] - 4s 113ms/step - loss: 0.0013\n",
      "Epoch 39/250\n",
      "37/37 [==============================] - 4s 111ms/step - loss: 0.0012\n",
      "Epoch 40/250\n",
      "37/37 [==============================] - 4s 110ms/step - loss: 0.0014\n",
      "Epoch 41/250\n",
      "37/37 [==============================] - 4s 117ms/step - loss: 0.0013\n",
      "Epoch 42/250\n",
      "37/37 [==============================] - 4s 110ms/step - loss: 0.0012\n",
      "Epoch 43/250\n",
      "37/37 [==============================] - 4s 113ms/step - loss: 0.0012\n",
      "Epoch 44/250\n",
      "37/37 [==============================] - 4s 112ms/step - loss: 0.0012\n",
      "Epoch 45/250\n",
      "37/37 [==============================] - 4s 115ms/step - loss: 0.0011\n",
      "Epoch 46/250\n",
      "37/37 [==============================] - 4s 113ms/step - loss: 0.0011\n",
      "Epoch 47/250\n",
      "37/37 [==============================] - 4s 112ms/step - loss: 0.0013\n",
      "Epoch 48/250\n",
      "37/37 [==============================] - 4s 111ms/step - loss: 0.0011\n",
      "Epoch 49/250\n",
      "37/37 [==============================] - 4s 114ms/step - loss: 0.0012\n",
      "Epoch 50/250\n",
      "37/37 [==============================] - 4s 113ms/step - loss: 0.0011\n",
      "Epoch 51/250\n",
      "37/37 [==============================] - 4s 118ms/step - loss: 0.0011\n",
      "Epoch 52/250\n",
      "37/37 [==============================] - 4s 113ms/step - loss: 0.0012\n",
      "Epoch 53/250\n",
      "37/37 [==============================] - 4s 116ms/step - loss: 0.0011\n",
      "Epoch 54/250\n",
      "37/37 [==============================] - 4s 104ms/step - loss: 0.0011\n",
      "Epoch 55/250\n",
      "37/37 [==============================] - 4s 105ms/step - loss: 9.9300e-04\n",
      "Epoch 56/250\n",
      "37/37 [==============================] - 4s 106ms/step - loss: 0.0011\n",
      "Epoch 57/250\n",
      "37/37 [==============================] - 4s 103ms/step - loss: 0.0010\n",
      "Epoch 58/250\n",
      "37/37 [==============================] - 4s 112ms/step - loss: 9.8356e-04\n",
      "Epoch 59/250\n",
      "37/37 [==============================] - 4s 112ms/step - loss: 9.5868e-04\n",
      "Epoch 60/250\n",
      "37/37 [==============================] - 4s 113ms/step - loss: 0.0010\n",
      "Epoch 61/250\n",
      "37/37 [==============================] - 4s 111ms/step - loss: 0.0010\n",
      "Epoch 62/250\n",
      "37/37 [==============================] - 4s 109ms/step - loss: 9.1338e-04\n",
      "Epoch 63/250\n",
      "37/37 [==============================] - 4s 112ms/step - loss: 0.0010\n",
      "Epoch 64/250\n",
      "37/37 [==============================] - 4s 114ms/step - loss: 9.6515e-04\n",
      "Epoch 65/250\n",
      "37/37 [==============================] - 4s 111ms/step - loss: 0.0010\n",
      "Epoch 66/250\n",
      "37/37 [==============================] - 4s 114ms/step - loss: 9.4071e-04\n",
      "Epoch 67/250\n",
      "37/37 [==============================] - 4s 110ms/step - loss: 9.0131e-04\n",
      "Epoch 68/250\n",
      "37/37 [==============================] - 4s 115ms/step - loss: 9.2360e-04\n",
      "Epoch 69/250\n",
      "37/37 [==============================] - 4s 112ms/step - loss: 9.0925e-04\n",
      "Epoch 70/250\n",
      "37/37 [==============================] - 4s 113ms/step - loss: 9.1960e-04\n",
      "Epoch 71/250\n",
      "37/37 [==============================] - 4s 110ms/step - loss: 9.4348e-04\n",
      "Epoch 72/250\n",
      "37/37 [==============================] - 4s 115ms/step - loss: 8.7714e-04\n",
      "Epoch 73/250\n",
      "37/37 [==============================] - 4s 113ms/step - loss: 9.1287e-04\n",
      "Epoch 74/250\n",
      "37/37 [==============================] - 4s 112ms/step - loss: 9.0175e-04\n",
      "Epoch 75/250\n",
      "37/37 [==============================] - 4s 111ms/step - loss: 8.6866e-04\n",
      "Epoch 76/250\n",
      "37/37 [==============================] - 4s 112ms/step - loss: 8.6869e-04\n",
      "Epoch 77/250\n",
      "37/37 [==============================] - 4s 109ms/step - loss: 8.7547e-04\n",
      "Epoch 78/250\n",
      "37/37 [==============================] - 4s 110ms/step - loss: 8.0364e-04\n",
      "Epoch 79/250\n",
      "37/37 [==============================] - 4s 113ms/step - loss: 8.1851e-04\n",
      "Epoch 80/250\n",
      "37/37 [==============================] - 4s 110ms/step - loss: 8.4254e-04\n",
      "Epoch 81/250\n",
      "37/37 [==============================] - 4s 112ms/step - loss: 8.0447e-04\n",
      "Epoch 82/250\n",
      "37/37 [==============================] - 4s 110ms/step - loss: 8.2303e-04\n",
      "Epoch 83/250\n",
      "37/37 [==============================] - 4s 115ms/step - loss: 8.1361e-04\n",
      "Epoch 84/250\n",
      "37/37 [==============================] - 4s 111ms/step - loss: 7.9527e-04\n",
      "Epoch 85/250\n",
      "37/37 [==============================] - 4s 115ms/step - loss: 8.3255e-04\n",
      "Epoch 86/250\n",
      "37/37 [==============================] - 4s 115ms/step - loss: 7.1985e-04\n",
      "Epoch 87/250\n",
      "37/37 [==============================] - 4s 110ms/step - loss: 7.2853e-04\n",
      "Epoch 88/250\n",
      "37/37 [==============================] - 4s 110ms/step - loss: 7.8343e-04\n",
      "Epoch 89/250\n",
      "37/37 [==============================] - 4s 116ms/step - loss: 7.9048e-04\n",
      "Epoch 90/250\n",
      "37/37 [==============================] - 4s 112ms/step - loss: 7.2533e-04\n",
      "Epoch 91/250\n",
      "37/37 [==============================] - 4s 111ms/step - loss: 7.4925e-04\n",
      "Epoch 92/250\n",
      "37/37 [==============================] - 4s 111ms/step - loss: 7.3773e-04\n",
      "Epoch 93/250\n",
      "37/37 [==============================] - 4s 107ms/step - loss: 7.0953e-04\n",
      "Epoch 94/250\n",
      "37/37 [==============================] - 4s 113ms/step - loss: 7.1330e-04\n",
      "Epoch 95/250\n",
      "37/37 [==============================] - 4s 119ms/step - loss: 7.3899e-04\n",
      "Epoch 96/250\n",
      "37/37 [==============================] - 4s 113ms/step - loss: 7.0581e-04\n",
      "Epoch 97/250\n",
      "37/37 [==============================] - 4s 115ms/step - loss: 7.2639e-04\n",
      "Epoch 98/250\n"
     ]
    },
    {
     "name": "stdout",
     "output_type": "stream",
     "text": [
      "37/37 [==============================] - 4s 111ms/step - loss: 7.0430e-04\n",
      "Epoch 99/250\n",
      "37/37 [==============================] - 4s 112ms/step - loss: 6.6473e-04\n",
      "Epoch 100/250\n",
      "37/37 [==============================] - 4s 111ms/step - loss: 6.7233e-04\n",
      "Epoch 101/250\n",
      "37/37 [==============================] - 4s 116ms/step - loss: 6.4512e-04\n",
      "Epoch 102/250\n",
      "37/37 [==============================] - 4s 111ms/step - loss: 6.3992e-04\n",
      "Epoch 103/250\n",
      "37/37 [==============================] - 4s 114ms/step - loss: 6.7084e-04\n",
      "Epoch 104/250\n",
      "37/37 [==============================] - 4s 111ms/step - loss: 6.4138e-04\n",
      "Epoch 105/250\n",
      "37/37 [==============================] - 4s 115ms/step - loss: 6.4635e-04\n",
      "Epoch 106/250\n",
      "37/37 [==============================] - 4s 110ms/step - loss: 6.2889e-04\n",
      "Epoch 107/250\n",
      "37/37 [==============================] - 4s 111ms/step - loss: 6.5968e-04\n",
      "Epoch 108/250\n",
      "37/37 [==============================] - 4s 111ms/step - loss: 6.1682e-04\n",
      "Epoch 109/250\n",
      "37/37 [==============================] - 4s 112ms/step - loss: 6.6063e-04\n",
      "Epoch 110/250\n",
      "37/37 [==============================] - 4s 115ms/step - loss: 6.3911e-04\n",
      "Epoch 111/250\n",
      "37/37 [==============================] - 4s 112ms/step - loss: 6.2559e-04\n",
      "Epoch 112/250\n",
      "37/37 [==============================] - 4s 115ms/step - loss: 5.9898e-04\n",
      "Epoch 113/250\n",
      "37/37 [==============================] - 4s 108ms/step - loss: 6.4023e-04\n",
      "Epoch 114/250\n",
      "37/37 [==============================] - 4s 113ms/step - loss: 5.8656e-04\n",
      "Epoch 115/250\n",
      "37/37 [==============================] - 4s 113ms/step - loss: 6.0890e-04\n",
      "Epoch 116/250\n",
      "37/37 [==============================] - 4s 110ms/step - loss: 6.1407e-04\n",
      "Epoch 117/250\n",
      "37/37 [==============================] - 4s 112ms/step - loss: 5.9345e-04\n",
      "Epoch 118/250\n",
      "37/37 [==============================] - 4s 116ms/step - loss: 6.2631e-04\n",
      "Epoch 119/250\n",
      "37/37 [==============================] - 4s 111ms/step - loss: 5.9084e-04\n",
      "Epoch 120/250\n",
      "37/37 [==============================] - 4s 116ms/step - loss: 5.8551e-04\n",
      "Epoch 121/250\n",
      "37/37 [==============================] - 4s 111ms/step - loss: 5.9432e-04\n",
      "Epoch 122/250\n",
      "37/37 [==============================] - 4s 111ms/step - loss: 5.9165e-04\n",
      "Epoch 123/250\n",
      "37/37 [==============================] - 4s 112ms/step - loss: 5.7128e-04\n",
      "Epoch 124/250\n",
      "37/37 [==============================] - 4s 115ms/step - loss: 5.7467e-04\n",
      "Epoch 125/250\n",
      "37/37 [==============================] - 4s 112ms/step - loss: 5.7510e-04\n",
      "Epoch 126/250\n",
      "37/37 [==============================] - 4s 116ms/step - loss: 5.8673e-04\n",
      "Epoch 127/250\n",
      "37/37 [==============================] - 4s 113ms/step - loss: 5.5896e-04\n",
      "Epoch 128/250\n",
      "37/37 [==============================] - 4s 112ms/step - loss: 5.6752e-04\n",
      "Epoch 129/250\n",
      "37/37 [==============================] - 4s 116ms/step - loss: 5.6513e-04\n",
      "Epoch 130/250\n",
      "37/37 [==============================] - 4s 115ms/step - loss: 5.4438e-04\n",
      "Epoch 131/250\n",
      "37/37 [==============================] - 4s 112ms/step - loss: 5.4197e-04\n",
      "Epoch 132/250\n",
      "37/37 [==============================] - 4s 112ms/step - loss: 5.6590e-04\n",
      "Epoch 133/250\n",
      "37/37 [==============================] - 4s 111ms/step - loss: 5.5919e-04\n",
      "Epoch 134/250\n",
      "37/37 [==============================] - 4s 115ms/step - loss: 5.5617e-04\n",
      "Epoch 135/250\n",
      "37/37 [==============================] - 4s 106ms/step - loss: 5.4141e-04\n",
      "Epoch 136/250\n",
      "37/37 [==============================] - 4s 110ms/step - loss: 5.4033e-04\n",
      "Epoch 137/250\n",
      "37/37 [==============================] - 4s 112ms/step - loss: 5.2896e-04\n",
      "Epoch 138/250\n",
      "37/37 [==============================] - 4s 111ms/step - loss: 5.3705e-04\n",
      "Epoch 139/250\n",
      "37/37 [==============================] - 4s 111ms/step - loss: 5.2670e-04\n",
      "Epoch 140/250\n",
      "37/37 [==============================] - 4s 112ms/step - loss: 5.4126e-04\n",
      "Epoch 141/250\n",
      "37/37 [==============================] - 4s 107ms/step - loss: 5.3346e-04\n",
      "Epoch 142/250\n",
      "37/37 [==============================] - 4s 111ms/step - loss: 5.2365e-04\n",
      "Epoch 143/250\n",
      "37/37 [==============================] - 4s 114ms/step - loss: 5.6649e-04\n",
      "Epoch 144/250\n",
      "37/37 [==============================] - 4s 113ms/step - loss: 5.3793e-04\n",
      "Epoch 145/250\n",
      "37/37 [==============================] - 4s 112ms/step - loss: 5.3053e-04\n",
      "Epoch 146/250\n",
      "37/37 [==============================] - 4s 110ms/step - loss: 5.2062e-04\n",
      "Epoch 147/250\n",
      "37/37 [==============================] - 4s 112ms/step - loss: 5.2318e-04\n",
      "Epoch 148/250\n",
      "37/37 [==============================] - 4s 113ms/step - loss: 5.2374e-04\n",
      "Epoch 149/250\n",
      "37/37 [==============================] - 4s 113ms/step - loss: 5.2069e-04\n",
      "Epoch 150/250\n",
      "37/37 [==============================] - 4s 111ms/step - loss: 5.2840e-04\n",
      "Epoch 151/250\n",
      "37/37 [==============================] - 4s 113ms/step - loss: 5.2792e-04\n",
      "Epoch 152/250\n",
      "37/37 [==============================] - 4s 111ms/step - loss: 5.3424e-04\n",
      "Epoch 153/250\n",
      "37/37 [==============================] - 4s 111ms/step - loss: 5.2405e-04\n",
      "Epoch 154/250\n",
      "37/37 [==============================] - 4s 107ms/step - loss: 5.1679e-04\n",
      "Epoch 155/250\n",
      "37/37 [==============================] - 4s 112ms/step - loss: 5.2873e-04\n",
      "Epoch 156/250\n",
      "37/37 [==============================] - 4s 111ms/step - loss: 5.0599e-04\n",
      "Epoch 157/250\n",
      "37/37 [==============================] - 4s 112ms/step - loss: 5.1266e-04\n",
      "Epoch 158/250\n",
      "37/37 [==============================] - 4s 111ms/step - loss: 5.1918e-04\n",
      "Epoch 159/250\n",
      "37/37 [==============================] - 4s 117ms/step - loss: 5.1983e-04\n",
      "Epoch 160/250\n",
      "37/37 [==============================] - 4s 111ms/step - loss: 5.1945e-04\n",
      "Epoch 161/250\n",
      "37/37 [==============================] - 4s 114ms/step - loss: 5.1691e-04\n",
      "Epoch 162/250\n",
      "37/37 [==============================] - 4s 109ms/step - loss: 5.0474e-04\n",
      "Epoch 163/250\n",
      "37/37 [==============================] - 4s 112ms/step - loss: 4.9655e-04\n",
      "Epoch 164/250\n",
      "37/37 [==============================] - 4s 113ms/step - loss: 5.1791e-04\n",
      "Epoch 165/250\n",
      "37/37 [==============================] - 4s 110ms/step - loss: 5.0555e-04\n",
      "Epoch 166/250\n",
      "37/37 [==============================] - 4s 109ms/step - loss: 5.1865e-04\n",
      "Epoch 167/250\n",
      "37/37 [==============================] - 4s 108ms/step - loss: 5.0675e-04\n",
      "Epoch 168/250\n",
      "37/37 [==============================] - 4s 116ms/step - loss: 5.0098e-04\n",
      "Epoch 169/250\n",
      "37/37 [==============================] - 4s 106ms/step - loss: 5.0834e-04\n",
      "Epoch 170/250\n",
      "37/37 [==============================] - 4s 110ms/step - loss: 5.0188e-04\n",
      "Epoch 171/250\n",
      "37/37 [==============================] - 4s 112ms/step - loss: 4.9751e-04\n",
      "Epoch 172/250\n",
      "37/37 [==============================] - 4s 115ms/step - loss: 5.0246e-04\n",
      "Epoch 173/250\n",
      "37/37 [==============================] - 4s 110ms/step - loss: 5.0860e-04\n",
      "Epoch 174/250\n",
      "37/37 [==============================] - 4s 114ms/step - loss: 4.9500e-04\n",
      "Epoch 175/250\n",
      "37/37 [==============================] - 4s 111ms/step - loss: 5.1032e-04\n",
      "Epoch 176/250\n",
      "37/37 [==============================] - 4s 111ms/step - loss: 4.9407e-04\n",
      "Epoch 177/250\n",
      "37/37 [==============================] - 4s 113ms/step - loss: 4.9926e-04\n",
      "Epoch 178/250\n",
      "37/37 [==============================] - 4s 111ms/step - loss: 4.9456e-04\n",
      "Epoch 179/250\n",
      "37/37 [==============================] - 4s 113ms/step - loss: 5.1097e-04\n",
      "Epoch 180/250\n",
      "37/37 [==============================] - 4s 113ms/step - loss: 4.9942e-04\n",
      "Epoch 181/250\n",
      "37/37 [==============================] - 4s 113ms/step - loss: 5.0541e-04\n",
      "Epoch 182/250\n",
      "37/37 [==============================] - 4s 115ms/step - loss: 4.9756e-04\n",
      "Epoch 183/250\n",
      "37/37 [==============================] - 4s 112ms/step - loss: 5.0287e-04\n",
      "Epoch 184/250\n",
      "37/37 [==============================] - 4s 115ms/step - loss: 4.9851e-04\n",
      "Epoch 185/250\n",
      "37/37 [==============================] - 4s 111ms/step - loss: 4.9704e-04\n",
      "Epoch 186/250\n",
      "37/37 [==============================] - 4s 114ms/step - loss: 4.8858e-04\n",
      "Epoch 187/250\n",
      "37/37 [==============================] - 4s 110ms/step - loss: 4.9327e-04\n",
      "Epoch 188/250\n",
      "37/37 [==============================] - 4s 110ms/step - loss: 4.9926e-04\n",
      "Epoch 189/250\n",
      "37/37 [==============================] - 4s 112ms/step - loss: 4.9429e-04\n",
      "Epoch 190/250\n",
      "37/37 [==============================] - 4s 114ms/step - loss: 4.9400e-04\n",
      "Epoch 191/250\n",
      "37/37 [==============================] - 4s 110ms/step - loss: 4.9292e-04\n",
      "Epoch 192/250\n",
      "37/37 [==============================] - 4s 113ms/step - loss: 4.9488e-04\n",
      "Epoch 193/250\n",
      "37/37 [==============================] - 4s 111ms/step - loss: 5.0074e-04\n",
      "Epoch 194/250\n",
      "37/37 [==============================] - 4s 111ms/step - loss: 4.9494e-04\n",
      "Epoch 195/250\n",
      "37/37 [==============================] - 4s 112ms/step - loss: 5.0056e-04\n",
      "Epoch 196/250\n",
      "37/37 [==============================] - 4s 112ms/step - loss: 4.9423e-04\n",
      "Epoch 197/250\n",
      "37/37 [==============================] - 4s 114ms/step - loss: 4.9198e-04\n",
      "Epoch 198/250\n",
      "37/37 [==============================] - 4s 108ms/step - loss: 4.9257e-04\n",
      "Epoch 199/250\n",
      "37/37 [==============================] - 4s 116ms/step - loss: 4.8507e-04\n",
      "Epoch 200/250\n",
      "37/37 [==============================] - 4s 111ms/step - loss: 4.9578e-04\n",
      "Epoch 201/250\n",
      "37/37 [==============================] - 4s 112ms/step - loss: 4.8985e-04\n",
      "Epoch 202/250\n",
      "37/37 [==============================] - 4s 111ms/step - loss: 4.9237e-04\n",
      "Epoch 203/250\n",
      "37/37 [==============================] - 4s 113ms/step - loss: 4.9714e-04\n",
      "Epoch 204/250\n",
      "37/37 [==============================] - 4s 112ms/step - loss: 4.9186e-04\n",
      "Epoch 205/250\n",
      "37/37 [==============================] - 4s 114ms/step - loss: 4.9067e-04\n",
      "Epoch 206/250\n",
      "37/37 [==============================] - 4s 111ms/step - loss: 4.9261e-04\n",
      "Epoch 207/250\n",
      "37/37 [==============================] - 4s 108ms/step - loss: 4.8772e-04\n",
      "Epoch 208/250\n",
      "37/37 [==============================] - 4s 112ms/step - loss: 4.9077e-04\n",
      "Epoch 209/250\n",
      "37/37 [==============================] - 4s 111ms/step - loss: 4.8906e-04\n",
      "Epoch 210/250\n",
      "37/37 [==============================] - 4s 112ms/step - loss: 4.9459e-04\n",
      "Epoch 211/250\n",
      "37/37 [==============================] - 4s 112ms/step - loss: 4.9094e-04\n",
      "Epoch 212/250\n",
      "37/37 [==============================] - 4s 110ms/step - loss: 4.9736e-04\n",
      "Epoch 213/250\n",
      "37/37 [==============================] - 4s 112ms/step - loss: 4.9308e-04\n",
      "Epoch 214/250\n",
      "37/37 [==============================] - 4s 112ms/step - loss: 4.9177e-04\n",
      "Epoch 215/250\n",
      "37/37 [==============================] - 4s 118ms/step - loss: 4.9882e-04\n",
      "Epoch 216/250\n",
      "37/37 [==============================] - 4s 111ms/step - loss: 4.9165e-04\n",
      "Epoch 217/250\n",
      "37/37 [==============================] - 4s 111ms/step - loss: 4.8979e-04\n",
      "Epoch 218/250\n",
      "37/37 [==============================] - 4s 110ms/step - loss: 4.9235e-04\n",
      "Epoch 219/250\n",
      "37/37 [==============================] - 4s 110ms/step - loss: 4.9059e-04\n",
      "Epoch 220/250\n",
      "37/37 [==============================] - 4s 113ms/step - loss: 4.9665e-04\n",
      "Epoch 221/250\n",
      "37/37 [==============================] - 4s 109ms/step - loss: 4.9063e-04\n",
      "Epoch 222/250\n",
      "37/37 [==============================] - 4s 112ms/step - loss: 4.8932e-04\n",
      "Epoch 223/250\n",
      "37/37 [==============================] - 4s 107ms/step - loss: 4.8935e-04\n",
      "Epoch 224/250\n",
      "37/37 [==============================] - 4s 111ms/step - loss: 4.9573e-04\n",
      "Epoch 225/250\n",
      "37/37 [==============================] - 4s 108ms/step - loss: 4.9068e-04\n",
      "Epoch 226/250\n",
      "37/37 [==============================] - 4s 112ms/step - loss: 4.8943e-04\n",
      "Epoch 227/250\n",
      "37/37 [==============================] - 4s 108ms/step - loss: 4.9041e-04\n",
      "Epoch 228/250\n",
      "37/37 [==============================] - 4s 115ms/step - loss: 4.9020e-04\n",
      "Epoch 229/250\n",
      "37/37 [==============================] - 4s 109ms/step - loss: 4.9231e-04\n",
      "Epoch 230/250\n",
      "37/37 [==============================] - 4s 116ms/step - loss: 4.9140e-04\n",
      "Epoch 231/250\n",
      "37/37 [==============================] - 4s 109ms/step - loss: 4.8703e-04\n",
      "Epoch 232/250\n",
      "37/37 [==============================] - 4s 114ms/step - loss: 4.8655e-04\n",
      "Epoch 233/250\n",
      "37/37 [==============================] - 4s 110ms/step - loss: 4.9080e-04\n",
      "Epoch 234/250\n",
      "37/37 [==============================] - 4s 111ms/step - loss: 4.8660e-04\n",
      "Epoch 235/250\n",
      "37/37 [==============================] - 4s 105ms/step - loss: 4.8875e-04\n",
      "Epoch 236/250\n",
      "37/37 [==============================] - 4s 110ms/step - loss: 4.8368e-04\n",
      "Epoch 237/250\n",
      "37/37 [==============================] - 4s 109ms/step - loss: 4.8850e-04\n",
      "Epoch 238/250\n",
      "37/37 [==============================] - 4s 106ms/step - loss: 4.8393e-04\n",
      "Epoch 239/250\n",
      "37/37 [==============================] - 4s 113ms/step - loss: 4.8785e-04\n",
      "Epoch 240/250\n",
      "37/37 [==============================] - 4s 114ms/step - loss: 4.8938e-04\n",
      "Epoch 241/250\n",
      "37/37 [==============================] - 4s 112ms/step - loss: 4.8569e-04\n",
      "Epoch 242/250\n",
      "37/37 [==============================] - 4s 112ms/step - loss: 4.8571e-04\n",
      "Epoch 243/250\n",
      "37/37 [==============================] - 4s 111ms/step - loss: 4.8904e-04\n",
      "Epoch 244/250\n",
      "37/37 [==============================] - 4s 111ms/step - loss: 4.9246e-04\n",
      "Epoch 245/250\n",
      "37/37 [==============================] - 4s 113ms/step - loss: 4.8610e-04\n",
      "Epoch 246/250\n",
      "37/37 [==============================] - 4s 111ms/step - loss: 4.8893e-04\n",
      "Epoch 247/250\n",
      "37/37 [==============================] - 4s 115ms/step - loss: 4.8575e-04\n",
      "Epoch 248/250\n",
      "37/37 [==============================] - 4s 110ms/step - loss: 4.8668e-04\n",
      "Epoch 249/250\n",
      "37/37 [==============================] - 4s 112ms/step - loss: 4.8674e-04\n",
      "Epoch 250/250\n",
      "37/37 [==============================] - 4s 112ms/step - loss: 4.8416e-04\n"
     ]
    },
    {
     "data": {
      "text/plain": [
       "<keras.callbacks.History at 0x7f3e13b1c5e0>"
      ]
     },
     "execution_count": 31,
     "metadata": {},
     "output_type": "execute_result"
    }
   ],
   "source": [
    "# fit model\n",
    "model.fit(generator,epochs=250)"
   ]
  },
  {
   "cell_type": "code",
   "execution_count": 32,
   "metadata": {},
   "outputs": [
    {
     "data": {
      "text/plain": [
       "[<matplotlib.lines.Line2D at 0x7f3e0004ca60>]"
      ]
     },
     "execution_count": 32,
     "metadata": {},
     "output_type": "execute_result"
    },
    {
     "data": {
      "image/png": "[encoded data removed]",
      "text/plain": [
       "<Figure size 432x288 with 1 Axes>"
      ]
     },
     "metadata": {
      "needs_background": "light"
     },
     "output_type": "display_data"
    }
   ],
   "source": [
    "loss_per_epoch = model.history.history['loss']\n",
    "plt.plot(range(len(loss_per_epoch)),loss_per_epoch)"
   ]
  },
  {
   "cell_type": "code",
   "execution_count": 33,
   "metadata": {},
   "outputs": [],
   "source": [
    "first_eval_batch = scaled_train[-32:]"
   ]
  },
  {
   "cell_type": "code",
   "execution_count": 34,
   "metadata": {},
   "outputs": [],
   "source": [
    "first_eval_batch = first_eval_batch.reshape((1,n_input,n_features))"
   ]
  },
  {
   "cell_type": "code",
   "execution_count": 35,
   "metadata": {},
   "outputs": [
    {
     "name": "stdout",
     "output_type": "stream",
     "text": [
      "1/1 [==============================] - 1s 655ms/step\n"
     ]
    },
    {
     "data": {
      "text/plain": [
       "array([[0.4990544]], dtype=float32)"
      ]
     },
     "execution_count": 35,
     "metadata": {},
     "output_type": "execute_result"
    }
   ],
   "source": [
    "model.predict(first_eval_batch)"
   ]
  },
  {
   "cell_type": "code",
   "execution_count": 36,
   "metadata": {
    "scrolled": true
   },
   "outputs": [
    {
     "name": "stdout",
     "output_type": "stream",
     "text": [
      "1/1 [==============================] - 0s 46ms/step\n",
      "1/1 [==============================] - 0s 43ms/step\n",
      "1/1 [==============================] - 0s 42ms/step\n",
      "1/1 [==============================] - 0s 38ms/step\n",
      "1/1 [==============================] - 0s 41ms/step\n",
      "1/1 [==============================] - 0s 38ms/step\n",
      "1/1 [==============================] - 0s 42ms/step\n",
      "1/1 [==============================] - 0s 37ms/step\n",
      "1/1 [==============================] - 0s 36ms/step\n",
      "1/1 [==============================] - 0s 37ms/step\n",
      "1/1 [==============================] - 0s 39ms/step\n",
      "1/1 [==============================] - 0s 39ms/step\n",
      "1/1 [==============================] - 0s 37ms/step\n",
      "1/1 [==============================] - 0s 42ms/step\n",
      "1/1 [==============================] - 0s 36ms/step\n",
      "1/1 [==============================] - 0s 36ms/step\n",
      "1/1 [==============================] - 0s 38ms/step\n",
      "1/1 [==============================] - 0s 36ms/step\n",
      "1/1 [==============================] - 0s 38ms/step\n",
      "1/1 [==============================] - 0s 38ms/step\n",
      "1/1 [==============================] - 0s 39ms/step\n",
      "1/1 [==============================] - 0s 38ms/step\n",
      "1/1 [==============================] - 0s 34ms/step\n",
      "1/1 [==============================] - 0s 39ms/step\n",
      "1/1 [==============================] - 0s 36ms/step\n",
      "1/1 [==============================] - 0s 40ms/step\n",
      "1/1 [==============================] - 0s 46ms/step\n",
      "1/1 [==============================] - 0s 37ms/step\n",
      "1/1 [==============================] - 0s 38ms/step\n",
      "1/1 [==============================] - 0s 35ms/step\n",
      "1/1 [==============================] - 0s 37ms/step\n",
      "1/1 [==============================] - 0s 39ms/step\n",
      "1/1 [==============================] - 0s 42ms/step\n",
      "1/1 [==============================] - 0s 38ms/step\n",
      "1/1 [==============================] - 0s 36ms/step\n",
      "1/1 [==============================] - 0s 32ms/step\n",
      "1/1 [==============================] - 0s 40ms/step\n",
      "1/1 [==============================] - 0s 46ms/step\n",
      "1/1 [==============================] - 0s 45ms/step\n",
      "1/1 [==============================] - 0s 45ms/step\n",
      "1/1 [==============================] - 0s 35ms/step\n",
      "1/1 [==============================] - 0s 32ms/step\n",
      "1/1 [==============================] - 0s 41ms/step\n",
      "1/1 [==============================] - 0s 33ms/step\n",
      "1/1 [==============================] - 0s 36ms/step\n",
      "1/1 [==============================] - 0s 36ms/step\n",
      "1/1 [==============================] - 0s 35ms/step\n",
      "1/1 [==============================] - 0s 37ms/step\n",
      "1/1 [==============================] - 0s 35ms/step\n",
      "1/1 [==============================] - 0s 37ms/step\n",
      "1/1 [==============================] - 0s 41ms/step\n",
      "1/1 [==============================] - 0s 44ms/step\n",
      "1/1 [==============================] - 0s 35ms/step\n",
      "1/1 [==============================] - 0s 36ms/step\n",
      "1/1 [==============================] - 0s 36ms/step\n",
      "1/1 [==============================] - 0s 34ms/step\n",
      "1/1 [==============================] - 0s 35ms/step\n",
      "1/1 [==============================] - 0s 37ms/step\n",
      "1/1 [==============================] - 0s 36ms/step\n",
      "1/1 [==============================] - 0s 37ms/step\n",
      "1/1 [==============================] - 0s 53ms/step\n"
     ]
    }
   ],
   "source": [
    "#holding my predictions\n",
    "test_predictions = []\n",
    "\n",
    "\n",
    "# last n_input points from the training set\n",
    "first_eval_batch = scaled_train[-n_input:]\n",
    "# reshape this to the format RNN wants (same format as TimeseriesGeneration)\n",
    "current_batch = first_eval_batch.reshape((1,n_input,n_features))\n",
    "\n",
    "#how far into the future will I forecast?\n",
    "\n",
    "for i in range(len(test)):\n",
    "    \n",
    "    # One timestep ahead of historical 12 points\n",
    "    current_pred = model.predict(current_batch)[0]\n",
    "    \n",
    "    #store that prediction\n",
    "    test_predictions.append(current_pred)\n",
    "    \n",
    "    # UPDATE current batch o include prediction\n",
    "    current_batch = np.append(current_batch[:,1:,:],[[current_pred]], axis= 1)"
   ]
  },
  {
   "cell_type": "code",
   "execution_count": 37,
   "metadata": {},
   "outputs": [],
   "source": [
    "true_predictions = scaler.inverse_transform(test_predictions)"
   ]
  },
  {
   "cell_type": "code",
   "execution_count": 38,
   "metadata": {},
   "outputs": [
    {
     "name": "stderr",
     "output_type": "stream",
     "text": [
      "/tmp/ipykernel_2792448/4217253912.py:1: SettingWithCopyWarning: \n",
      "A value is trying to be set on a copy of a slice from a DataFrame.\n",
      "Try using .loc[row_indexer,col_indexer] = value instead\n",
      "\n",
      "See the caveats in the documentation: https://pandas.pydata.org/pandas-docs/stable/user_guide/indexing.html#returning-a-view-versus-a-copy\n",
      "  test['Predictions'] =true_predictions\n"
     ]
    }
   ],
   "source": [
    "test['Predictions'] =true_predictions"
   ]
  },
  {
   "cell_type": "code",
   "execution_count": 39,
   "metadata": {},
   "outputs": [
    {
     "name": "stderr",
     "output_type": "stream",
     "text": [
      "/home/aaqil/aaqil_env/lib/python3.8/site-packages/pandas/core/generic.py:5516: SettingWithCopyWarning: \n",
      "A value is trying to be set on a copy of a slice from a DataFrame.\n",
      "Try using .loc[row_indexer,col_indexer] = value instead\n",
      "\n",
      "See the caveats in the documentation: https://pandas.pydata.org/pandas-docs/stable/user_guide/indexing.html#returning-a-view-versus-a-copy\n",
      "  self[name] = value\n"
     ]
    }
   ],
   "source": [
    "test.Predictions = test.Predictions.apply(int)"
   ]
  },
  {
   "cell_type": "code",
   "execution_count": 40,
   "metadata": {},
   "outputs": [
    {
     "data": {
      "text/html": [
       "<div>\n",
       "<style scoped>\n",
       "    .dataframe tbody tr th:only-of-type {\n",
       "        vertical-align: middle;\n",
       "    }\n",
       "\n",
       "    .dataframe tbody tr th {\n",
       "        vertical-align: top;\n",
       "    }\n",
       "\n",
       "    .dataframe thead th {\n",
       "        text-align: right;\n",
       "    }\n",
       "</style>\n",
       "<table border=\"1\" class=\"dataframe\">\n",
       "  <thead>\n",
       "    <tr style=\"text-align: right;\">\n",
       "      <th></th>\n",
       "      <th>PAYMENTS</th>\n",
       "      <th>Predictions</th>\n",
       "    </tr>\n",
       "    <tr>\n",
       "      <th>Date</th>\n",
       "      <th></th>\n",
       "      <th></th>\n",
       "    </tr>\n",
       "  </thead>\n",
       "  <tbody>\n",
       "    <tr>\n",
       "      <th>2022-05-01</th>\n",
       "      <td>342668</td>\n",
       "      <td>1428230</td>\n",
       "    </tr>\n",
       "    <tr>\n",
       "      <th>2022-05-02</th>\n",
       "      <td>1146876</td>\n",
       "      <td>1428230</td>\n",
       "    </tr>\n",
       "    <tr>\n",
       "      <th>2022-05-03</th>\n",
       "      <td>1192750</td>\n",
       "      <td>1428227</td>\n",
       "    </tr>\n",
       "    <tr>\n",
       "      <th>2022-05-04</th>\n",
       "      <td>1808644</td>\n",
       "      <td>1428225</td>\n",
       "    </tr>\n",
       "    <tr>\n",
       "      <th>2022-05-05</th>\n",
       "      <td>1315464</td>\n",
       "      <td>1428222</td>\n",
       "    </tr>\n",
       "  </tbody>\n",
       "</table>\n",
       "</div>"
      ],
      "text/plain": [
       "            PAYMENTS  Predictions\n",
       "Date                             \n",
       "2022-05-01    342668      1428230\n",
       "2022-05-02   1146876      1428230\n",
       "2022-05-03   1192750      1428227\n",
       "2022-05-04   1808644      1428225\n",
       "2022-05-05   1315464      1428222"
      ]
     },
     "execution_count": 40,
     "metadata": {},
     "output_type": "execute_result"
    }
   ],
   "source": [
    "test.head()"
   ]
  },
  {
   "cell_type": "code",
   "execution_count": 41,
   "metadata": {},
   "outputs": [
    {
     "data": {
      "text/plain": [
       "<AxesSubplot:xlabel='Date'>"
      ]
     },
     "execution_count": 41,
     "metadata": {},
     "output_type": "execute_result"
    },
    {
     "data": {
      "image/png": "[encoded data removed]",
      "text/plain": [
       "<Figure size 1152x720 with 1 Axes>"
      ]
     },
     "metadata": {
      "needs_background": "light"
     },
     "output_type": "display_data"
    }
   ],
   "source": [
    "test.plot(figsize=(16,10))"
   ]
  },
  {
   "cell_type": "code",
   "execution_count": 42,
   "metadata": {},
   "outputs": [
    {
     "name": "stdout",
     "output_type": "stream",
     "text": [
      "671488.2447084286\n"
     ]
    }
   ],
   "source": [
    "from sklearn.metrics import mean_squared_error\n",
    "from math import sqrt\n",
    "rmse=sqrt(mean_squared_error(test['PAYMENTS'],test['Predictions']))\n",
    "print(rmse)"
   ]
  },
  {
   "cell_type": "code",
   "execution_count": 43,
   "metadata": {},
   "outputs": [],
   "source": [
    "def mean_absolute_percentage_error(y_true, y_pred): \n",
    "    \"\"\"Calculates MAPE given y_true and y_pred\"\"\"\n",
    "    y_true, y_pred = np.array(y_true), np.array(y_pred)\n",
    "    return np.mean(np.abs((y_true - y_pred) / y_true)) * 100"
   ]
  },
  {
   "cell_type": "code",
   "execution_count": 44,
   "metadata": {},
   "outputs": [
    {
     "data": {
      "text/plain": [
       "164.36777577443976"
      ]
     },
     "execution_count": 44,
     "metadata": {},
     "output_type": "execute_result"
    }
   ],
   "source": [
    "mean_absolute_percentage_error(test['PAYMENTS'],test['Predictions'])"
   ]
  },
  {
   "cell_type": "code",
   "execution_count": null,
   "metadata": {},
   "outputs": [],
   "source": []
  }
 ],
 "metadata": {
  "kernelspec": {
   "display_name": "aaqil_env",
   "language": "python",
   "name": "aaqil_env"
  },
  "language_info": {
   "codemirror_mode": {
    "name": "ipython",
    "version": 3
   },
   "file_extension": ".py",
   "mimetype": "text/x-python",
   "name": "python",
   "nbconvert_exporter": "python",
   "pygments_lexer": "ipython3",
   "version": "3.8.10"
  }
 },
 "nbformat": 4,
 "nbformat_minor": 2
}
